{
 "cells": [
  {
   "cell_type": "markdown",
   "id": "0991f7f5-a266-4398-850c-c7880cde8896",
   "metadata": {},
   "source": [
    "**Scraping e analisi nae_vegan**"
   ]
  },
  {
   "cell_type": "code",
   "execution_count": 3,
   "id": "98994eee-5a85-462a-9995-83d44794e7f2",
   "metadata": {},
   "outputs": [],
   "source": [
    "import requests"
   ]
  },
  {
   "cell_type": "code",
   "execution_count": 5,
   "id": "305460ac-2f54-4cbf-8c97-1f5523a15a5d",
   "metadata": {},
   "outputs": [
    {
     "name": "stdout",
     "output_type": "stream",
     "text": [
      "https://nae-vegan.com/it-it/collections/scarpe-donna\n"
     ]
    }
   ],
   "source": [
    "base_url = \"https://nae-vegan.com/\"\n",
    "list_details_w = \"it-it/collections/scarpe-donna\"\n",
    "list_url_w = base_url + list_details_w\n",
    "\n",
    "print(list_url_w)"
   ]
  },
  {
   "cell_type": "code",
   "execution_count": 7,
   "id": "6c6b8526-9034-4188-830b-54f7fbef3325",
   "metadata": {},
   "outputs": [
    {
     "name": "stdout",
     "output_type": "stream",
     "text": [
      "<Response [200]>\n"
     ]
    }
   ],
   "source": [
    "headers = {\"User-Agent\":\"Chrome/128.0\"}\n",
    "req_w = requests.get(list_url_w, headers=headers)\n",
    "print(req_w)"
   ]
  },
  {
   "cell_type": "code",
   "execution_count": 9,
   "id": "c3ec695c-a3eb-41ee-885e-75bfa3e575f4",
   "metadata": {},
   "outputs": [],
   "source": [
    "from bs4 import BeautifulSoup"
   ]
  },
  {
   "cell_type": "code",
   "execution_count": 11,
   "id": "4edf4ec1-7b1c-4fcb-891e-c3ce6af3e5a4",
   "metadata": {},
   "outputs": [],
   "source": [
    "soup_w = BeautifulSoup(req_w.text)\n",
    "#print(soup_w) "
   ]
  },
  {
   "cell_type": "code",
   "execution_count": 13,
   "id": "0ed5023d-b16c-4051-9a2d-c02a4d4def76",
   "metadata": {},
   "outputs": [],
   "source": [
    "#nome_prodotto_w = soup_w.find_all(\"h3\", class_=\"card__heading h5\")\n",
    "#nome_prodotto_w\n",
    "\n",
    "#restituisce un numero limitato per pagina, serve selenium"
   ]
  },
  {
   "cell_type": "code",
   "execution_count": 15,
   "id": "a8eeab23-589d-4673-8a69-d9977f12bd71",
   "metadata": {},
   "outputs": [
    {
     "name": "stdout",
     "output_type": "stream",
     "text": [
      "Requirement already satisfied: selenium in c:\\users\\dilor\\anaconda3\\lib\\site-packages (4.32.0)\n",
      "Requirement already satisfied: urllib3<3,>=1.26 in c:\\users\\dilor\\anaconda3\\lib\\site-packages (from urllib3[socks]<3,>=1.26->selenium) (2.2.3)\n",
      "Requirement already satisfied: trio~=0.17 in c:\\users\\dilor\\anaconda3\\lib\\site-packages (from selenium) (0.30.0)\n",
      "Requirement already satisfied: trio-websocket~=0.9 in c:\\users\\dilor\\anaconda3\\lib\\site-packages (from selenium) (0.12.2)\n",
      "Requirement already satisfied: certifi>=2021.10.8 in c:\\users\\dilor\\anaconda3\\lib\\site-packages (from selenium) (2025.1.31)\n",
      "Requirement already satisfied: typing_extensions~=4.9 in c:\\users\\dilor\\anaconda3\\lib\\site-packages (from selenium) (4.11.0)\n",
      "Requirement already satisfied: websocket-client~=1.8 in c:\\users\\dilor\\anaconda3\\lib\\site-packages (from selenium) (1.8.0)\n",
      "Requirement already satisfied: attrs>=23.2.0 in c:\\users\\dilor\\anaconda3\\lib\\site-packages (from trio~=0.17->selenium) (25.3.0)\n",
      "Requirement already satisfied: sortedcontainers in c:\\users\\dilor\\anaconda3\\lib\\site-packages (from trio~=0.17->selenium) (2.4.0)\n",
      "Requirement already satisfied: idna in c:\\users\\dilor\\anaconda3\\lib\\site-packages (from trio~=0.17->selenium) (3.7)\n",
      "Requirement already satisfied: outcome in c:\\users\\dilor\\anaconda3\\lib\\site-packages (from trio~=0.17->selenium) (1.3.0.post0)\n",
      "Requirement already satisfied: sniffio>=1.3.0 in c:\\users\\dilor\\anaconda3\\lib\\site-packages (from trio~=0.17->selenium) (1.3.0)\n",
      "Requirement already satisfied: cffi>=1.14 in c:\\users\\dilor\\anaconda3\\lib\\site-packages (from trio~=0.17->selenium) (1.17.1)\n",
      "Requirement already satisfied: wsproto>=0.14 in c:\\users\\dilor\\anaconda3\\lib\\site-packages (from trio-websocket~=0.9->selenium) (1.2.0)\n",
      "Requirement already satisfied: pysocks!=1.5.7,<2.0,>=1.5.6 in c:\\users\\dilor\\anaconda3\\lib\\site-packages (from urllib3[socks]<3,>=1.26->selenium) (1.7.1)\n",
      "Requirement already satisfied: pycparser in c:\\users\\dilor\\anaconda3\\lib\\site-packages (from cffi>=1.14->trio~=0.17->selenium) (2.21)\n",
      "Requirement already satisfied: h11<1,>=0.9.0 in c:\\users\\dilor\\anaconda3\\lib\\site-packages (from wsproto>=0.14->trio-websocket~=0.9->selenium) (0.14.0)\n"
     ]
    }
   ],
   "source": [
    "!pip install selenium"
   ]
  },
  {
   "cell_type": "code",
   "execution_count": 74,
   "id": "7329fe84-99f6-42fd-93d2-fad1cc30dacd",
   "metadata": {},
   "outputs": [
    {
     "name": "stdout",
     "output_type": "stream",
     "text": [
      "Collecting webdriver_manager\n",
      "  Downloading webdriver_manager-4.0.2-py2.py3-none-any.whl.metadata (12 kB)\n",
      "Requirement already satisfied: requests in c:\\users\\dilor\\anaconda3\\lib\\site-packages (from webdriver_manager) (2.32.3)\n",
      "Requirement already satisfied: python-dotenv in c:\\users\\dilor\\anaconda3\\lib\\site-packages (from webdriver_manager) (0.21.0)\n",
      "Requirement already satisfied: packaging in c:\\users\\dilor\\anaconda3\\lib\\site-packages (from webdriver_manager) (24.1)\n",
      "Requirement already satisfied: charset-normalizer<4,>=2 in c:\\users\\dilor\\anaconda3\\lib\\site-packages (from requests->webdriver_manager) (3.3.2)\n",
      "Requirement already satisfied: idna<4,>=2.5 in c:\\users\\dilor\\anaconda3\\lib\\site-packages (from requests->webdriver_manager) (3.7)\n",
      "Requirement already satisfied: urllib3<3,>=1.21.1 in c:\\users\\dilor\\anaconda3\\lib\\site-packages (from requests->webdriver_manager) (2.2.3)\n",
      "Requirement already satisfied: certifi>=2017.4.17 in c:\\users\\dilor\\anaconda3\\lib\\site-packages (from requests->webdriver_manager) (2025.1.31)\n",
      "Downloading webdriver_manager-4.0.2-py2.py3-none-any.whl (27 kB)\n",
      "Installing collected packages: webdriver_manager\n",
      "Successfully installed webdriver_manager-4.0.2\n"
     ]
    }
   ],
   "source": [
    "!pip install webdriver_manager"
   ]
  },
  {
   "cell_type": "code",
   "execution_count": 15,
   "id": "7a105766-116d-47af-a70d-5c85329168ae",
   "metadata": {},
   "outputs": [
    {
     "name": "stdout",
     "output_type": "stream",
     "text": [
      " Prodotti trovati: 127\n",
      "['OKINA Black', 'OKINA Green', 'TONGA Black', 'TONGA Green', 'DAVU Black', 'DAVU Green', 'LAU Black', 'LAU Green', 'TUPAI Black', 'TUPAI Green', 'TANNA Black', 'TANNA Green', 'DESA Brown', 'MINA Black', 'LISA Black', 'DIANA Black', 'DIANA Beige', 'ADEL Beige', 'JAQUE Beige', 'ANGE Brown']\n"
     ]
    }
   ],
   "source": [
    "import requests\n",
    "from bs4 import BeautifulSoup\n",
    "\n",
    "headers = {\n",
    "    \"X-Requested-With\": \"XMLHttpRequest\",\n",
    "    \"User-Agent\": \"Mozilla/5.0\"\n",
    "}\n",
    "\n",
    "# URL che carica i prodotti extra\n",
    "url = \"https://nae-vegan.com/it-it/collections/scarpe-donna?view=load-more&page={}\"\n",
    "\n",
    "nome_prodotto_w = []\n",
    "\n",
    "# Prova 1–10 pagine finché non ne arrivano più\n",
    "for page in range(1, 15):\n",
    "    full_url = url.format(page)\n",
    "    r = requests.get(full_url, headers=headers)\n",
    "    \n",
    "    if r.status_code != 200 or not r.text.strip():\n",
    "        break  # stop se la risposta è vuota\n",
    "    \n",
    "    soup = BeautifulSoup(r.text, \"html.parser\")\n",
    "    prodotti = soup.find_all(\"h3\", class_=\"card__heading h5\")\n",
    "    \n",
    "    if not prodotti:\n",
    "        break\n",
    "    \n",
    "    for p in prodotti:\n",
    "        nome = p.text.strip()\n",
    "        if nome:\n",
    "            nome_prodotto_w.append(nome)\n",
    "\n",
    "# Rimuovi duplicati mantenendo l'ordine\n",
    "nome_prodotto_w = list(dict.fromkeys(nome_prodotto_w))\n",
    "\n",
    "print(f\" Prodotti trovati: {len(nome_prodotto_w)}\")\n",
    "print(nome_prodotto_w[:20])\n"
   ]
  },
  {
   "cell_type": "code",
   "execution_count": 17,
   "id": "76a3ff63-ec05-4f8c-b962-933810adffd9",
   "metadata": {},
   "outputs": [
    {
     "name": "stdout",
     "output_type": "stream",
     "text": [
      " Prodotti trovati: 75\n",
      "['OKINA Green', 'OKINA Black', 'TONGA Black', 'TONGA Green', 'DAVU Black', 'DAVU Green', 'LAU Black', 'LAU Green', 'TUPAI Black', 'TUPAI Green', 'TANNA Black', 'TANNA Green', 'Mikel Brown', 'Mikel and Bruc Brown', 'Mikel Black', 'JAKE Brown', 'JAKE Black', 'JAKE CORK Brown', 'Jake and Begur Black', 'DARIO Black']\n"
     ]
    }
   ],
   "source": [
    "import requests\n",
    "from bs4 import BeautifulSoup\n",
    "\n",
    "headers = {\n",
    "    \"X-Requested-With\": \"XMLHttpRequest\",\n",
    "    \"User-Agent\": \"Mozilla/5.0\"\n",
    "}\n",
    "\n",
    "# URL che carica i prodotti extra\n",
    "url = \"https://nae-vegan.com/it-it/collections/shoes-men-all?view=load-more&page={}\"\n",
    "\n",
    "nome_prodotto_m = []\n",
    "\n",
    "# Prova 1–10 pagine finché non ne arrivano più\n",
    "for page in range(1, 15):\n",
    "    full_url = url.format(page)\n",
    "    r = requests.get(full_url, headers=headers)\n",
    "    \n",
    "    if r.status_code != 200 or not r.text.strip():\n",
    "        break  # stop se la risposta è vuota\n",
    "    \n",
    "    soup = BeautifulSoup(r.text, \"html.parser\")\n",
    "    prodotti = soup.find_all(\"h3\", class_=\"card__heading h5\")\n",
    "    \n",
    "    if not prodotti:\n",
    "        break\n",
    "    \n",
    "    for p in prodotti:\n",
    "        nome = p.text.strip()\n",
    "        if nome:\n",
    "            nome_prodotto_m.append(nome)\n",
    "\n",
    "# Rimuovi duplicati mantenendo l'ordine\n",
    "nome_prodotto_m = list(dict.fromkeys(nome_prodotto_m))\n",
    "\n",
    "print(f\" Prodotti trovati: {len(nome_prodotto_m)}\")\n",
    "print(nome_prodotto_m[:20])\n"
   ]
  },
  {
   "cell_type": "code",
   "execution_count": 19,
   "id": "83212b1e-1d5f-48db-bd7d-ac1f14f0976c",
   "metadata": {},
   "outputs": [
    {
     "name": "stdout",
     "output_type": "stream",
     "text": [
      "✅ Prezzi massimi trovati: 127\n",
      "['€110,00', '€110,00', '€110,00', '€110,00', '€110,00', '€110,00', '€110,00', '€110,00', '€85,00', '€85,00']\n"
     ]
    }
   ],
   "source": [
    "import requests\n",
    "from bs4 import BeautifulSoup\n",
    "\n",
    "headers = {\n",
    "    \"X-Requested-With\": \"XMLHttpRequest\",\n",
    "    \"User-Agent\": \"Mozilla/5.0\"\n",
    "}\n",
    "\n",
    "url = \"https://nae-vegan.com/it-it/collections/scarpe-donna?view=load-more&page={}\"\n",
    "\n",
    "prezzi_dict = {}\n",
    "\n",
    "for page in range(1, 15):\n",
    "    response = requests.get(url.format(page), headers=headers)\n",
    "    if response.status_code != 200 or not response.text.strip():\n",
    "        break\n",
    "\n",
    "    soup = BeautifulSoup(response.text, \"html.parser\")\n",
    "    prodotti = soup.find_all(\"div\", class_=\"card-wrapper\")\n",
    "\n",
    "    for prodotto in prodotti:\n",
    "        nome_tag = prodotto.find(\"h3\", class_=\"card__heading\")\n",
    "        nome = nome_tag.text.strip() if nome_tag else None\n",
    "\n",
    "        # Trova tutti i tag prezzo visibili (sia <s> che <span>)\n",
    "        prezzo_tags = prodotto.find_all([\"span\", \"s\"], class_=\"price-item\")\n",
    "\n",
    "        prezzi = []\n",
    "        for tag in prezzo_tags:\n",
    "            prezzo_text = tag.text.strip().replace(\"€\", \"\").replace(\",\", \".\")\n",
    "            try:\n",
    "                prezzo_float = float(prezzo_text)\n",
    "                prezzi.append(prezzo_float)\n",
    "            except:\n",
    "                continue\n",
    "\n",
    "        if nome and prezzi:\n",
    "            prezzo_max = max(prezzi)\n",
    "            prezzi_dict[nome] = f\"€{prezzo_max:.2f}\".replace(\".\", \",\")  # formato europeo\n",
    "\n",
    "# Lista finale\n",
    "prezzi_prodotti_w = list(prezzi_dict.values())\n",
    "\n",
    "print(f\"✅ Prezzi massimi trovati: {len(prezzi_prodotti_w)}\")\n",
    "print(prezzi_prodotti_w[:10])\n"
   ]
  },
  {
   "cell_type": "code",
   "execution_count": 21,
   "id": "46d0d68f-facc-4003-9a62-00fe30275126",
   "metadata": {},
   "outputs": [
    {
     "name": "stdout",
     "output_type": "stream",
     "text": [
      "✅ Prezzi massimi trovati: 75\n",
      "['€110,00', '€110,00', '€110,00', '€110,00', '€110,00', '€110,00', '€110,00', '€110,00', '€85,00', '€85,00']\n"
     ]
    }
   ],
   "source": [
    "import requests\n",
    "from bs4 import BeautifulSoup\n",
    "\n",
    "headers = {\n",
    "    \"X-Requested-With\": \"XMLHttpRequest\",\n",
    "    \"User-Agent\": \"Mozilla/5.0\"\n",
    "}\n",
    "\n",
    "url = \"https://nae-vegan.com/it-it/collections/shoes-men-all?view=load-more&page={}\"\n",
    "\n",
    "prezzi_dict = {}\n",
    "\n",
    "for page in range(1, 15):\n",
    "    response = requests.get(url.format(page), headers=headers)\n",
    "    if response.status_code != 200 or not response.text.strip():\n",
    "        break\n",
    "\n",
    "    soup = BeautifulSoup(response.text, \"html.parser\")\n",
    "    prodotti = soup.find_all(\"div\", class_=\"card-wrapper\")\n",
    "\n",
    "    for prodotto in prodotti:\n",
    "        nome_tag = prodotto.find(\"h3\", class_=\"card__heading\")\n",
    "        nome = nome_tag.text.strip() if nome_tag else None\n",
    "\n",
    "        # Trova tutti i tag prezzo visibili (sia <s> che <span>)\n",
    "        prezzo_tags = prodotto.find_all([\"span\", \"s\"], class_=\"price-item\")\n",
    "\n",
    "        prezzi = []\n",
    "        for tag in prezzo_tags:\n",
    "            prezzo_text = tag.text.strip().replace(\"€\", \"\").replace(\",\", \".\")\n",
    "            try:\n",
    "                prezzo_float = float(prezzo_text)\n",
    "                prezzi.append(prezzo_float)\n",
    "            except:\n",
    "                continue\n",
    "\n",
    "        if nome and prezzi:\n",
    "            prezzo_max = max(prezzi)\n",
    "            prezzi_dict[nome] = f\"€{prezzo_max:.2f}\".replace(\".\", \",\")  # formato europeo\n",
    "\n",
    "# Lista finale\n",
    "prezzi_prodotti_m = list(prezzi_dict.values())\n",
    "\n",
    "print(f\"✅ Prezzi massimi trovati: {len(prezzi_prodotti_m)}\")\n",
    "print(prezzi_prodotti_m[:10])\n"
   ]
  },
  {
   "cell_type": "code",
   "execution_count": 23,
   "id": "7f3fe716-4a4a-459f-b1b1-23493435b75c",
   "metadata": {},
   "outputs": [
    {
     "name": "stdout",
     "output_type": "stream",
     "text": [
      "['OKINA Black', 'OKINA Green', 'TONGA Black', 'TONGA Green', 'DAVU Black', 'DAVU Green', 'LAU Black', 'LAU Green', 'TUPAI Black', 'TUPAI Green', 'TANNA Black', 'TANNA Green', 'DESA Brown', 'MINA Black', 'LISA Black', 'DIANA Black', 'DIANA Beige', 'ADEL Beige', 'JAQUE Beige', 'ANGE Brown', 'AURE Black', 'BASIL Black', 'BASIL Red', 'CORA CORK Brown', 'CORA MICRO Black', 'CORA PINATEX Red', 'DEVAN Black', 'ESTELA Red', 'Finna Black', 'FLORA CORK Brown', 'HEBEA Black', 'HOLLY Black', 'HOLLY Orange', 'IRIS Black', 'IRIS Orange', 'Isia Black', 'JUNO Black', 'MARA Black', 'MARGOT CORK Brown', 'MARIA Brown', 'NERAD Beige', 'OLGA Black', 'PAX Beige', 'ROMA Black', 'ZINNIA Black', 'SAMET Black', 'SAMET Green', 'MAK Black', 'PODA Black', 'LANTA Black', 'Loto Grey', 'LIPE Black', 'QUINCE Black', 'SAMUI Green', 'TEA White', 'PETA Black', 'PAM Black', 'PAM Beige', 'Pam and Batea Beige', 'OBE Black', 'RODA Black', 'MOE Black', 'Moe and Mura Black', 'ELENA Black', 'DEME Black', 'MELITA Black', 'MELITA Green', 'MELITA Red', 'MELITA CORK Brown', 'THYME Black', 'FIORE Black', 'ESEL Brown', 'ESEL Black', 'LOUISE CORK Brown', 'MEGAN White', 'LINA CORK Brown', 'VANE Black', 'EMISA Black', 'EMISA Beige', 'ELENA Brown', 'ARUM Beige', 'ARUM Grey', 'TERESA Black', 'TERESA White', 'HELEN Beige', 'HELEN Black', 'HADE Grey', 'JOR Black', 'JOR Blue', 'JOR White', 'BERLIN Green', 'Berlin Green + Kit di pulizia', 'BERLIN Red', 'BERLIN White', 'LONDON Green', 'LONDON Red', 'DARA Pink', 'DARA White', 'KOMO Green', 'KOMO White', 'Clove Red', 'Clove Black', 'REDO Black', 'REDO Grey', 'MOLLY Brown', 'VIKKY Black', 'MOLLY Black', 'Double the Style: Molly Boots in Black & Brown', 'LYDIA Black', 'IONA Black', 'SELMA Black', 'CIRCE Black', 'GRETA Black', 'ODET Green', 'ODET Black', 'ALICIA Black', 'ALICIA Brown', 'Alicia and Camp Brown', 'TECLA Green', 'TECLA Black', 'ADAR Green', 'ADAR Grey', 'GADEA Black', 'GADEA Brown', 'MARCA Black', 'RESTA Black', 'SIMA Black']\n"
     ]
    }
   ],
   "source": [
    "print(nome_prodotto_w)"
   ]
  },
  {
   "cell_type": "code",
   "execution_count": 25,
   "id": "567afdbd-4051-4708-b682-aa4a56fc0e0d",
   "metadata": {},
   "outputs": [
    {
     "name": "stdout",
     "output_type": "stream",
     "text": [
      "['OKINA Green', 'OKINA Black', 'TONGA Black', 'TONGA Green', 'DAVU Black', 'DAVU Green', 'LAU Black', 'LAU Green', 'TUPAI Black', 'TUPAI Green', 'TANNA Black', 'TANNA Green', 'Mikel Brown', 'Mikel and Bruc Brown', 'Mikel Black', 'JAKE Brown', 'JAKE Black', 'JAKE CORK Brown', 'Jake and Begur Black', 'DARIO Black', 'DARIO Beige', 'LUKE Beige', 'LUKE Brown', 'MILES Black', 'EMIL Brown', 'EDU Brown', 'HECTOR Black', 'NOLAN Brown', 'Adrien Beige', 'ARUM Beige', 'ARUM Grey', 'THYME Black', 'TANGO Brown', 'SIRO Black', 'BERLIN Green', 'Berlin Green + Kit di pulizia', 'BERLIN Red', 'BERLIN White', 'LONDON Green', 'LONDON Red', 'KOMO Green', 'KOMO White', 'Clove Black', 'HADE Grey', 'JOR Black', 'JOR White', 'JOR Blue', 'Clove Red', 'REDO Black', 'REDO Grey', 'SAMET Black', 'SAMET Green', 'SAMUI Green', 'MAK Black', 'Loto Grey', 'PODA Black', 'AGUS Grey', 'AGUS Brown', 'BASTI Black', 'BASTI Brown', 'Basti Brown and Belt Mila', 'ADAR Green', 'ADAR Grey', 'CASIAN Brown', 'EBAN Green', 'FABER Black', 'FABER Brown', 'GADEA Black', 'GADEA Brown', 'LORE Brown', 'LUKAS Black', 'LUKAS Brown', 'NOAH PINATEX White', 'RESTA Black', 'MARCA Black']\n"
     ]
    }
   ],
   "source": [
    "print(nome_prodotto_m)"
   ]
  },
  {
   "cell_type": "code",
   "execution_count": 27,
   "id": "e4790d0f-9260-4858-b1fd-706cb674a23a",
   "metadata": {},
   "outputs": [
    {
     "name": "stdout",
     "output_type": "stream",
     "text": [
      "['€110,00', '€110,00', '€110,00', '€110,00', '€110,00', '€110,00', '€110,00', '€110,00', '€85,00', '€85,00', '€85,00', '€85,00', '€110,00', '€115,00', '€115,00', '€110,00', '€110,00', '€120,00', '€95,00', '€125,00', '€99,00', '€99,00', '€99,00', '€105,00', '€105,00', '€105,00', '€120,00', '€119,00', '€99,00', '€118,00', '€105,00', '€99,00', '€99,00', '€110,00', '€110,00', '€85,00', '€110,00', '€120,00', '€110,00', '€125,00', '€120,00', '€115,00', '€110,00', '€105,00', '€110,00', '€85,00', '€85,00', '€85,00', '€85,00', '€85,00', '€85,00', '€85,00', '€68,00', '€85,00', '€165,00', '€145,00', '€99,00', '€99,00', '€139,00', '€135,00', '€135,00', '€125,00', '€150,00', '€128,00', '€99,00', '€110,00', '€110,00', '€110,00', '€110,00', '€135,00', '€125,00', '€128,00', '€128,00', '€110,00', '€115,00', '€110,00', '€115,00', '€115,00', '€115,00', '€128,00', '€120,00', '€120,00', '€105,00', '€105,00', '€135,00', '€135,00', '€99,00', '€99,00', '€99,00', '€99,00', '€125,00', '€149,00', '€125,00', '€125,00', '€135,00', '€135,00', '€99,00', '€99,00', '€99,00', '€99,00', '€99,00', '€99,00', '€75,00', '€75,00', '€135,00', '€135,00', '€135,00', '€229,00', '€155,00', '€215,00', '€135,00', '€145,00', '€175,00', '€128,00', '€128,00', '€138,00', '€138,00', '€153,00', '€145,00', '€145,00', '€135,00', '€135,00', '€145,00', '€145,00', '€135,00', '€138,00', '€145,00']\n"
     ]
    }
   ],
   "source": [
    "print(prezzi_prodotti_w)"
   ]
  },
  {
   "cell_type": "code",
   "execution_count": 29,
   "id": "da3d77ac-0692-4072-a227-f2534829f972",
   "metadata": {},
   "outputs": [
    {
     "name": "stdout",
     "output_type": "stream",
     "text": [
      "['€110,00', '€110,00', '€110,00', '€110,00', '€110,00', '€110,00', '€110,00', '€110,00', '€85,00', '€85,00', '€85,00', '€85,00', '€135,00', '€150,00', '€135,00', '€149,00', '€149,00', '€149,00', '€162,00', '€138,00', '€138,00', '€138,00', '€138,00', '€128,00', '€135,00', '€135,00', '€155,00', '€135,00', '€135,00', '€120,00', '€120,00', '€135,00', '€128,00', '€145,00', '€125,00', '€149,00', '€125,00', '€125,00', '€135,00', '€135,00', '€99,00', '€99,00', '€99,00', '€99,00', '€99,00', '€99,00', '€99,00', '€99,00', '€75,00', '€75,00', '€85,00', '€85,00', '€85,00', '€85,00', '€85,00', '€85,00', '€125,00', '€125,00', '€135,00', '€135,00', '€153,00', '€135,00', '€135,00', '€145,00', '€135,00', '€135,00', '€135,00', '€145,00', '€145,00', '€140,00', '€135,00', '€135,00', '€125,00', '€138,00', '€135,00']\n"
     ]
    }
   ],
   "source": [
    "print(prezzi_prodotti_m)"
   ]
  },
  {
   "cell_type": "code",
   "execution_count": 31,
   "id": "17419b43-b43f-4f51-bf6c-e26284885ad3",
   "metadata": {},
   "outputs": [],
   "source": [
    "colori_prodotti_w = []\n",
    "\n",
    "for nome in nome_prodotto_w :\n",
    "    ultima_parola = nome.split()[-1]\n",
    "    colori_prodotti_w.append(ultima_parola)\n",
    "\n"
   ]
  },
  {
   "cell_type": "code",
   "execution_count": 33,
   "id": "1246f5ae-f188-4d6a-8959-d8ac5a3519a3",
   "metadata": {},
   "outputs": [],
   "source": [
    "colori_prodotti_m = []\n",
    "\n",
    "for nome in nome_prodotto_m :\n",
    "    ultima_parola = nome.split()[-1]\n",
    "    colori_prodotti_m.append(ultima_parola)\n",
    "\n"
   ]
  },
  {
   "cell_type": "code",
   "execution_count": 255,
   "id": "2699772a-4ee2-4b75-8f97-671f092a66a8",
   "metadata": {},
   "outputs": [
    {
     "name": "stdout",
     "output_type": "stream",
     "text": [
      "['Black', 'Green', 'Black', 'Green', 'Black', 'Green', 'Black', 'Green', 'Black', 'Green', 'Black', 'Green', 'Brown', 'Black', 'Black', 'Black', 'Beige', 'Beige', 'Beige', 'Brown', 'Black', 'Black', 'Red', 'Brown', 'Black', 'Red', 'Black', 'Red', 'Black', 'Brown', 'Black', 'Black', 'Orange', 'Black', 'Orange', 'Black', 'Black', 'Black', 'Brown', 'Brown', 'Beige', 'Black', 'Beige', 'Black', 'Black', 'Black', 'Green', 'Black', 'Black', 'Black', 'Grey', 'Black', 'Black', 'Green', 'White', 'Black', 'Black', 'Beige', 'Beige', 'Black', 'Black', 'Black', 'Black', 'Black', 'Black', 'Black', 'Green', 'Red', 'Brown', 'Black', 'Black', 'Brown', 'Black', 'Brown', 'White', 'Brown', 'Black', 'Black', 'Beige', 'Brown', 'Beige', 'Grey', 'Black', 'White', 'Beige', 'Black', 'Grey', 'Black', 'Blue', 'White', 'Green', 'pulizia', 'Red', 'White', 'Green', 'Red', 'Pink', 'White', 'Green', 'White', 'Red', 'Black', 'Black', 'Grey', 'Brown', 'Black', 'Black', 'Brown', 'Black', 'Black', 'Black', 'Black', 'Black', 'Green', 'Black', 'Black', 'Brown', 'Brown', 'Green', 'Black', 'Green', 'Grey', 'Black', 'Brown', 'Black', 'Black', 'Black']\n"
     ]
    }
   ],
   "source": [
    "print(colori_prodotti_w)"
   ]
  },
  {
   "cell_type": "code",
   "execution_count": 257,
   "id": "18115ca9-9331-4446-8393-05625fea5508",
   "metadata": {},
   "outputs": [
    {
     "name": "stdout",
     "output_type": "stream",
     "text": [
      "['Green', 'Black', 'Black', 'Green', 'Black', 'Green', 'Black', 'Green', 'Black', 'Green', 'Black', 'Green', 'Brown', 'Brown', 'Black', 'Brown', 'Black', 'Brown', 'Black', 'Black', 'Beige', 'Beige', 'Brown', 'Black', 'Brown', 'Brown', 'Black', 'Brown', 'Beige', 'Beige', 'Grey', 'Black', 'Brown', 'Black', 'Green', 'pulizia', 'Red', 'White', 'Green', 'Red', 'Green', 'White', 'Black', 'Grey', 'Black', 'White', 'Blue', 'Red', 'Black', 'Grey', 'Black', 'Green', 'Green', 'Black', 'Grey', 'Black', 'Grey', 'Brown', 'Black', 'Brown', 'Mila', 'Green', 'Grey', 'Brown', 'Green', 'Black', 'Brown', 'Black', 'Brown', 'Brown', 'Black', 'Brown', 'White', 'Black', 'Black']\n"
     ]
    }
   ],
   "source": [
    "print(colori_prodotti_m)"
   ]
  },
  {
   "cell_type": "code",
   "execution_count": 279,
   "id": "d46be1a9-04e5-4137-8987-6c1fa301fae5",
   "metadata": {},
   "outputs": [],
   "source": [
    "for i in range(len(colori_prodotti_w)):\n",
    "    if colori_prodotti_w[i] == \"pulizia\":\n",
    "        colori_prodotti_w[i] = \"Black\""
   ]
  },
  {
   "cell_type": "code",
   "execution_count": 283,
   "id": "a9cab23d-257b-4419-99bd-d28d2a6d5501",
   "metadata": {},
   "outputs": [
    {
     "name": "stdout",
     "output_type": "stream",
     "text": [
      "['Black', 'Green', 'Black', 'Green', 'Black', 'Green', 'Black', 'Green', 'Black', 'Green', 'Black', 'Green', 'Brown', 'Black', 'Black', 'Black', 'Beige', 'Beige', 'Beige', 'Brown', 'Black', 'Black', 'Red', 'Brown', 'Black', 'Red', 'Black', 'Red', 'Black', 'Brown', 'Black', 'Black', 'Orange', 'Black', 'Orange', 'Black', 'Black', 'Black', 'Brown', 'Brown', 'Beige', 'Black', 'Beige', 'Black', 'Black', 'Black', 'Green', 'Black', 'Black', 'Black', 'Grey', 'Black', 'Black', 'Green', 'White', 'Black', 'Black', 'Beige', 'Beige', 'Black', 'Black', 'Black', 'Black', 'Black', 'Black', 'Black', 'Green', 'Red', 'Brown', 'Black', 'Black', 'Brown', 'Black', 'Brown', 'White', 'Brown', 'Black', 'Black', 'Beige', 'Brown', 'Beige', 'Grey', 'Black', 'White', 'Beige', 'Black', 'Grey', 'Black', 'Blue', 'White', 'Green', 'Black', 'Red', 'White', 'Green', 'Red', 'Pink', 'White', 'Green', 'White', 'Red', 'Black', 'Black', 'Grey', 'Brown', 'Black', 'Black', 'Brown', 'Black', 'Black', 'Black', 'Black', 'Black', 'Green', 'Black', 'Black', 'Brown', 'Brown', 'Green', 'Black', 'Green', 'Grey', 'Black', 'Brown', 'Black', 'Black', 'Black']\n"
     ]
    }
   ],
   "source": [
    "print(colori_prodotti_w)"
   ]
  },
  {
   "cell_type": "code",
   "execution_count": 281,
   "id": "6431cb8e-39d0-400f-b780-36a7b60ad6d0",
   "metadata": {},
   "outputs": [],
   "source": [
    "for i in range(len(colori_prodotti_m)):\n",
    "    if colori_prodotti_m[i] == \"pulizia\":\n",
    "        colori_prodotti_m[i] = \"Black\""
   ]
  },
  {
   "cell_type": "code",
   "execution_count": 285,
   "id": "3c090858-ba86-4026-a037-b69d85e5c82f",
   "metadata": {},
   "outputs": [
    {
     "name": "stdout",
     "output_type": "stream",
     "text": [
      "['Green', 'Black', 'Black', 'Green', 'Black', 'Green', 'Black', 'Green', 'Black', 'Green', 'Black', 'Green', 'Brown', 'Brown', 'Black', 'Brown', 'Black', 'Brown', 'Black', 'Black', 'Beige', 'Beige', 'Brown', 'Black', 'Brown', 'Brown', 'Black', 'Brown', 'Beige', 'Beige', 'Grey', 'Black', 'Brown', 'Black', 'Green', 'Black', 'Red', 'White', 'Green', 'Red', 'Green', 'White', 'Black', 'Grey', 'Black', 'White', 'Blue', 'Red', 'Black', 'Grey', 'Black', 'Green', 'Green', 'Black', 'Grey', 'Black', 'Grey', 'Brown', 'Black', 'Brown', 'Mila', 'Green', 'Grey', 'Brown', 'Green', 'Black', 'Brown', 'Black', 'Brown', 'Brown', 'Black', 'Brown', 'White', 'Black', 'Black']\n"
     ]
    }
   ],
   "source": [
    "print(colori_prodotti_m)"
   ]
  },
  {
   "cell_type": "code",
   "execution_count": 208,
   "id": "0ae127cb-1f05-4d61-8414-217650452533",
   "metadata": {},
   "outputs": [
    {
     "name": "stdout",
     "output_type": "stream",
     "text": [
      "🔗 Link trovati: 127\n",
      "['https://nae-vegan.com/it-it/products/okina_black_vegan_sandals', 'https://nae-vegan.com/it-it/products/okina_green_vegan_sandals', 'https://nae-vegan.com/it-it/products/tonga_black_vegan_sandals', 'https://nae-vegan.com/it-it/products/tonga_green_vegan_sandals', 'https://nae-vegan.com/it-it/products/davu_nera_sandali_vegani']\n"
     ]
    }
   ],
   "source": [
    "import requests\n",
    "from bs4 import BeautifulSoup\n",
    "\n",
    "base_url = \"https://nae-vegan.com\"\n",
    "headers = {\n",
    "    \"X-Requested-With\": \"XMLHttpRequest\",\n",
    "    \"User-Agent\": \"Mozilla/5.0\"\n",
    "}\n",
    "\n",
    "url = \"https://nae-vegan.com/it-it/collections/scarpe-donna?view=load-more&page={}\"\n",
    "\n",
    "# Liste finali\n",
    "nome_prodotto_w = []\n",
    "link_prodotti = []\n",
    "\n",
    "# Richiesta paginata\n",
    "for page in range(1, 15):\n",
    "    response = requests.get(url.format(page), headers=headers)\n",
    "    if response.status_code != 200 or not response.text.strip():\n",
    "        break\n",
    "\n",
    "    soup = BeautifulSoup(response.text, \"html.parser\")\n",
    "    prodotti = soup.find_all(\"div\", class_=\"card-wrapper\")\n",
    "\n",
    "    if not prodotti:\n",
    "        break\n",
    "\n",
    "    for prodotto in prodotti:\n",
    "        # Nome\n",
    "        nome_tag = prodotto.find(\"h3\", class_=\"card__heading\")\n",
    "        nome = nome_tag.text.strip() if nome_tag else None\n",
    "\n",
    "        # Link\n",
    "        link_tag = prodotto.find(\"a\", class_=\"full-unstyled-link\")\n",
    "        href = link_tag.get(\"href\") if link_tag else None\n",
    "\n",
    "        if nome and href and \"/products/\" in href:\n",
    "            full_link = base_url + href\n",
    "            nome_prodotto_w.append(nome)\n",
    "            link_prodotti.append(full_link)\n",
    "\n",
    "# Risultato\n",
    "print(f\"🔗 Link trovati: {len(link_prodotti)}\")\n",
    "print(link_prodotti[:5])\n"
   ]
  },
  {
   "cell_type": "code",
   "execution_count": 41,
   "id": "0ada7c02-3d81-4c6c-b927-152b645d695b",
   "metadata": {},
   "outputs": [
    {
     "name": "stdout",
     "output_type": "stream",
     "text": [
      "🔗 Link trovati: 75\n",
      "['https://nae-vegan.com/it-it/products/okina_green_vegan_sandals', 'https://nae-vegan.com/it-it/products/okina_black_vegan_sandals', 'https://nae-vegan.com/it-it/products/tonga_black_vegan_sandals', 'https://nae-vegan.com/it-it/products/tonga_green_vegan_sandals', 'https://nae-vegan.com/it-it/products/davu_nera_sandali_vegani']\n"
     ]
    }
   ],
   "source": [
    "import requests\n",
    "from bs4 import BeautifulSoup\n",
    "\n",
    "base_url = \"https://nae-vegan.com\"\n",
    "headers = {\n",
    "    \"X-Requested-With\": \"XMLHttpRequest\",\n",
    "    \"User-Agent\": \"Mozilla/5.0\"\n",
    "}\n",
    "\n",
    "url = \"https://nae-vegan.com/it-it/collections/shoes-men-all?view=load-more&page={}\"\n",
    "\n",
    "# Liste finali\n",
    "nome_prodotto_m = []\n",
    "link_prodotti_m = []\n",
    "\n",
    "# Richiesta paginata\n",
    "for page in range(1, 15):\n",
    "    response = requests.get(url.format(page), headers=headers)\n",
    "    if response.status_code != 200 or not response.text.strip():\n",
    "        break\n",
    "\n",
    "    soup = BeautifulSoup(response.text, \"html.parser\")\n",
    "    prodotti = soup.find_all(\"div\", class_=\"card-wrapper\")\n",
    "\n",
    "    if not prodotti:\n",
    "        break\n",
    "\n",
    "    for prodotto in prodotti:\n",
    "        # Nome\n",
    "        nome_tag = prodotto.find(\"h3\", class_=\"card__heading\")\n",
    "        nome = nome_tag.text.strip() if nome_tag else None\n",
    "\n",
    "        # Link\n",
    "        link_tag = prodotto.find(\"a\", class_=\"full-unstyled-link\")\n",
    "        href = link_tag.get(\"href\") if link_tag else None\n",
    "\n",
    "        if nome and href and \"/products/\" in href:\n",
    "            full_link = base_url + href\n",
    "            nome_prodotto_m.append(nome)\n",
    "            link_prodotti_m.append(full_link)\n",
    "\n",
    "# Risultato\n",
    "print(f\"🔗 Link trovati: {len(link_prodotti_m)}\")\n",
    "print(link_prodotti_m[:5])\n"
   ]
  },
  {
   "cell_type": "code",
   "execution_count": 43,
   "id": "59eb8104-ee0e-43a9-afd7-6d8f32a93722",
   "metadata": {},
   "outputs": [],
   "source": [
    "headers = {\"User-Agent\":\"Chrome/128.0\"}\n",
    "\n",
    "for link_prodotto in link_prodotti: \n",
    "    req_into = requests.get(link_prodotto, headers=headers)\n",
    "    #print(req_into)"
   ]
  },
  {
   "cell_type": "code",
   "execution_count": 44,
   "id": "3c349322-1128-4362-a41c-315f2c0b2669",
   "metadata": {},
   "outputs": [],
   "source": [
    "soup_into = BeautifulSoup(req_into.text)"
   ]
  },
  {
   "cell_type": "code",
   "execution_count": 389,
   "id": "7f8bde84-eacb-44b8-8208-7cc69f880279",
   "metadata": {},
   "outputs": [
    {
     "name": "stdout",
     "output_type": "stream",
     "text": [
      "✅ Taglie trovate per 127 prodotti\n",
      "[['36', '37', '38', '39', '40', '41', '42', '43', '44', '45', '46'], ['36', '37', '38', '39', '40', '41', '42', '43', '44', '45', '46'], ['36', '37', '38', '39', '40', '41', '42', '43', '44', '45', '46'], ['36', '37', '38', '39', '40', '41', '42', '43', '44', '45', '46'], ['36', '37', '38', '39', '40', '41', '42', '43', '44', '45', '46']]\n"
     ]
    }
   ],
   "source": [
    "from selenium import webdriver\n",
    "from selenium.webdriver.chrome.service import Service\n",
    "from selenium.webdriver.common.by import By\n",
    "from selenium.webdriver.chrome.options import Options\n",
    "from webdriver_manager.chrome import ChromeDriverManager\n",
    "import time\n",
    "\n",
    "# Setup driver headless (niente finestra)\n",
    "options = Options()\n",
    "options.add_argument(\"--headless\")\n",
    "options.add_argument(\"--window-size=1920,1080\")\n",
    "\n",
    "driver = webdriver.Chrome(service=Service(ChromeDriverManager().install()), options=options)\n",
    "\n",
    "taglie_prodotti_w = []\n",
    "\n",
    "for link in link_prodotti:\n",
    "    driver.get(link)\n",
    "    time.sleep(2)  # Attendi caricamento JS\n",
    "\n",
    "    try:\n",
    "        # Cerca tutti i bottoni delle taglie (che contengono il testo \"36\", \"37\", ecc.)\n",
    "        taglie_elements = driver.find_elements(By.CSS_SELECTOR, \"fieldset.product-form__input input[type='radio']\")\n",
    "        taglie = [el.get_attribute(\"value\") for el in taglie_elements if el.get_attribute(\"value\")]\n",
    "        \n",
    "        taglie_prodotti_w.append(taglie if taglie else [\"N/D\"])\n",
    "    except Exception as e:\n",
    "        taglie_prodotti_w.append([\"N/D\"])\n",
    "\n",
    "driver.quit()\n",
    "\n",
    "print(f\"✅ Taglie trovate per {len(taglie_prodotti_w)} prodotti\")\n",
    "print(taglie_prodotti_w[:5])\n"
   ]
  },
  {
   "cell_type": "code",
   "execution_count": 391,
   "id": "f63f8459-7184-4b3f-8e19-870a560ec1b6",
   "metadata": {},
   "outputs": [
    {
     "name": "stdout",
     "output_type": "stream",
     "text": [
      "✅ Taglie trovate per 75 prodotti\n",
      "[['36', '37', '38', '39', '40', '41', '42', '43', '44', '45', '46'], ['36', '37', '38', '39', '40', '41', '42', '43', '44', '45', '46'], ['36', '37', '38', '39', '40', '41', '42', '43', '44', '45', '46'], ['36', '37', '38', '39', '40', '41', '42', '43', '44', '45', '46'], ['36', '37', '38', '39', '40', '41', '42', '43', '44', '45', '46']]\n"
     ]
    }
   ],
   "source": [
    "# Setup driver headless (niente finestra)\n",
    "options = Options()\n",
    "options.add_argument(\"--headless\")\n",
    "options.add_argument(\"--window-size=1920,1080\")\n",
    "\n",
    "driver = webdriver.Chrome(service=Service(ChromeDriverManager().install()), options=options)\n",
    "\n",
    "taglie_prodotti_m = []\n",
    "\n",
    "for link in link_prodotti_m:\n",
    "    driver.get(link)\n",
    "    time.sleep(2)  # Attendi caricamento JS\n",
    "\n",
    "    try:\n",
    "        # Cerca tutti i bottoni delle taglie (che contengono il testo \"36\", \"37\", ecc.)\n",
    "        taglie_elements = driver.find_elements(By.CSS_SELECTOR, \"fieldset.product-form__input input[type='radio']\")\n",
    "        taglie = [el.get_attribute(\"value\") for el in taglie_elements if el.get_attribute(\"value\")]\n",
    "        \n",
    "        taglie_prodotti_m.append(taglie if taglie else [\"N/D\"])\n",
    "    except Exception as e:\n",
    "        taglie_prodotti_m.append([\"N/D\"])\n",
    "\n",
    "driver.quit()\n",
    "\n",
    "print(f\"✅ Taglie trovate per {len(taglie_prodotti_m)} prodotti\")\n",
    "print(taglie_prodotti_m[:5])\n"
   ]
  },
  {
   "cell_type": "code",
   "execution_count": 452,
   "id": "6ec3bf75-ec0f-407f-af1f-c7217c45a499",
   "metadata": {},
   "outputs": [],
   "source": [
    "taglie_prodotti_w = [\n",
    "    [valore for valore in elemento if \"/\" not in valore]\n",
    "    for elemento in taglie_prodotti_w\n",
    "]\n",
    "\n",
    "    "
   ]
  },
  {
   "cell_type": "code",
   "execution_count": 458,
   "id": "75a53935-ce7d-4118-8a16-56b458ebaf3a",
   "metadata": {},
   "outputs": [],
   "source": [
    "taglie_prodotti_m = [\n",
    "    [valore for valore in elemento if \"/\" not in valore]\n",
    "    for elemento in taglie_prodotti_m\n",
    "]"
   ]
  },
  {
   "cell_type": "code",
   "execution_count": 507,
   "id": "504a9fa1-0e96-4680-946f-e943b0e6a171",
   "metadata": {},
   "outputs": [],
   "source": [
    "taglie_prodotti_m = [list(dict.fromkeys(sottolista)) for sottolista in taglie_prodotti_m]"
   ]
  },
  {
   "cell_type": "code",
   "execution_count": 509,
   "id": "b5f4abf6-cebf-458a-8ae4-30704eae02bb",
   "metadata": {},
   "outputs": [],
   "source": [
    "taglie_prodotti_w = [list(dict.fromkeys(sottolista)) for sottolista in taglie_prodotti_w]"
   ]
  },
  {
   "cell_type": "code",
   "execution_count": 511,
   "id": "f3563d0d-902b-4147-8ebf-b09b73b66e80",
   "metadata": {},
   "outputs": [
    {
     "name": "stdout",
     "output_type": "stream",
     "text": [
      "['36 - 46', '36 - 46', '36 - 46', '36 - 46', '36 - 46']\n"
     ]
    }
   ],
   "source": [
    "range_taglie_w = []\n",
    "\n",
    "for taglie in taglie_prodotti_w:\n",
    "    if taglie != [\"N/D\"]:\n",
    "        if len(taglie) >= 2:\n",
    "            range_taglie_w.append(f\"{taglie[0]} - {taglie[-1]}\")\n",
    "        elif len(taglie) == 1:\n",
    "            range_taglie_w.append(f\"{taglie[0]} - {taglie[0]}\")\n",
    "        else:\n",
    "            range_taglie_w.append(\"N/D\")\n",
    "    else:\n",
    "        range_taglie_w.append(\"N/D\")\n",
    "\n",
    "print(range_taglie_w[:5])\n"
   ]
  },
  {
   "cell_type": "code",
   "execution_count": 513,
   "id": "4cea9506-e9d4-483e-bc69-40f44022020c",
   "metadata": {},
   "outputs": [
    {
     "name": "stdout",
     "output_type": "stream",
     "text": [
      "['36 - 46', '36 - 46', '36 - 46', '36 - 46', '36 - 46']\n"
     ]
    }
   ],
   "source": [
    "range_taglie_m = []\n",
    "\n",
    "for taglie in taglie_prodotti_m:\n",
    "    if taglie != [\"N/D\"]:\n",
    "        if len(taglie) >= 2:\n",
    "            range_taglie_m.append(f\"{taglie[0]} - {taglie[-1]}\")\n",
    "        elif len(taglie) == 1:\n",
    "            range_taglie_m.append(f\"{taglie[0]} - {taglie[0]}\")\n",
    "        else:\n",
    "            range_taglie_m.append(\"N/D\")\n",
    "    else:\n",
    "        range_taglie_m.append(\"N/D\")\n",
    "\n",
    "print(range_taglie_m[:5])\n"
   ]
  },
  {
   "cell_type": "code",
   "execution_count": 55,
   "id": "f325ba3f-f8ea-416a-a2a8-7f83b069ea81",
   "metadata": {},
   "outputs": [],
   "source": [
    "#nome_prodotto_w\n",
    "#prezzi_prodotti_w\n",
    "#colori_prodotti_w\n",
    "#link_prodotti\n",
    "#taglie_prodotti_w\n",
    "#range_taglie_w\n",
    "#descrizione_prodotti_w\n",
    "\n",
    "#nome_prodotto_m\n",
    "#prezzi_prodotti_m\n",
    "#colori_prodotti_m\n",
    "#link_prodotti_m\n",
    "#taglie_prodotti_m\n",
    "#range_taglie_m"
   ]
  },
  {
   "cell_type": "code",
   "execution_count": 57,
   "id": "06af1e6b-6577-48c9-9968-7e3f90767861",
   "metadata": {},
   "outputs": [
    {
     "name": "stdout",
     "output_type": "stream",
     "text": [
      "✅ Descrizioni trovate: 127\n",
      "['Sandali vegani dal design eco-compatibile e dal tacco alto', 'Sandali vegani dal design ecologico ed ecocompatibile', 'Sandali vegani con un design ecologico a tripla fascia', 'Sandali vegani con un design ecologico a tripla fascia', 'Sandali vegani con cinturino incrociato e design a punta']\n"
     ]
    }
   ],
   "source": [
    "import requests\n",
    "from bs4 import BeautifulSoup\n",
    "\n",
    "headers = {\n",
    "    \"User-Agent\": \"Mozilla/5.0\"\n",
    "}\n",
    "\n",
    "descrizione_prodotti_w = []\n",
    "\n",
    "for link in link_prodotti:\n",
    "    response = requests.get(link, headers=headers)\n",
    "    soup = BeautifulSoup(response.text, \"html.parser\")\n",
    "\n",
    "    descrizione_tag = soup.find(\"p\", class_=\"body-xs__regular inline-richtext\")\n",
    "    \n",
    "    if descrizione_tag:\n",
    "        descrizione = descrizione_tag.text.strip()\n",
    "    else:\n",
    "        descrizione = \"N/D\"\n",
    "\n",
    "    descrizione_prodotti_w.append(descrizione)\n",
    "\n",
    "print(f\"✅ Descrizioni trovate: {len(descrizione_prodotti_w)}\")\n",
    "print(descrizione_prodotti_w[:5])\n"
   ]
  },
  {
   "cell_type": "code",
   "execution_count": 59,
   "id": "9a6114f8-622b-4337-8bda-56aff162a547",
   "metadata": {},
   "outputs": [
    {
     "name": "stdout",
     "output_type": "stream",
     "text": [
      "✅ Descrizioni trovate: 75\n",
      "['Sandali vegani dal design ecologico ed ecocompatibile', 'Sandali vegani dal design eco-compatibile e dal tacco alto', 'Sandali vegani con un design ecologico a tripla fascia', 'Sandali vegani con un design ecologico a tripla fascia', 'Sandali vegani con cinturino incrociato e design a punta']\n"
     ]
    }
   ],
   "source": [
    "import requests\n",
    "from bs4 import BeautifulSoup\n",
    "\n",
    "headers = {\n",
    "    \"User-Agent\": \"Mozilla/5.0\"\n",
    "}\n",
    "\n",
    "descrizione_prodotti_m = []\n",
    "\n",
    "for link in link_prodotti_m:\n",
    "    response = requests.get(link, headers=headers)\n",
    "    soup = BeautifulSoup(response.text, \"html.parser\")\n",
    "\n",
    "    descrizione_tag = soup.find(\"p\", class_=\"body-xs__regular inline-richtext\")\n",
    "    \n",
    "    if descrizione_tag:\n",
    "        descrizione = descrizione_tag.text.strip()\n",
    "    else:\n",
    "        descrizione = \"N/D\"\n",
    "\n",
    "    descrizione_prodotti_m.append(descrizione)\n",
    "\n",
    "print(f\"✅ Descrizioni trovate: {len(descrizione_prodotti_m)}\")\n",
    "print(descrizione_prodotti_m[:5])\n"
   ]
  },
  {
   "cell_type": "code",
   "execution_count": 61,
   "id": "3130507a-2f71-410d-ba95-844bedffd78f",
   "metadata": {},
   "outputs": [
    {
     "name": "stdout",
     "output_type": "stream",
     "text": [
      "✅ Categorie trovate: 127\n",
      "['Sandali', 'Sandali', 'Sandali', 'Sandali', 'Sandali']\n"
     ]
    }
   ],
   "source": [
    "import requests\n",
    "from bs4 import BeautifulSoup\n",
    "\n",
    "headers = {\n",
    "    \"User-Agent\": \"Mozilla/5.0\"\n",
    "}\n",
    "\n",
    "categoria_prodotto_w = []\n",
    "\n",
    "for link in link_prodotti:\n",
    "    response = requests.get(link, headers=headers)\n",
    "    soup = BeautifulSoup(response.text, \"html.parser\")\n",
    "\n",
    "    breadcrumb_items = soup.find_all(\"a\", class_=\"breadcrumbs__item\")\n",
    "    labels = [b.text.strip().lower() for b in breadcrumb_items]\n",
    "\n",
    "    if len(labels) >= 4:\n",
    "        # Controlla penultimo e terzultimo\n",
    "        if labels[-2] in [\"outlet\", \"uomo\", \"vedi tutto\"] or labels[-3] in [\"outlet\", \"uomo\", \"vedi tutto\"]:\n",
    "            categoria = breadcrumb_items[-4].text.strip()\n",
    "        else:\n",
    "            categoria = breadcrumb_items[-2].text.strip()\n",
    "    elif len(labels) >= 3:\n",
    "        if labels[-2] in [\"outlet\", \"uomo\", \"vedi tutto\"]:\n",
    "            categoria = breadcrumb_items[-3].text.strip()\n",
    "        else:\n",
    "            categoria = breadcrumb_items[-2].text.strip()\n",
    "    elif len(labels) >= 2:\n",
    "        categoria = breadcrumb_items[-2].text.strip()\n",
    "    else:\n",
    "        categoria = \"N/D\"\n",
    "\n",
    "    categoria_prodotto_w.append(categoria)\n",
    "\n",
    "print(f\"✅ Categorie trovate: {len(categoria_prodotto_w)}\")\n",
    "print(categoria_prodotto_w[:5])\n"
   ]
  },
  {
   "cell_type": "code",
   "execution_count": 63,
   "id": "6f1dca5c-040d-40dd-9f02-f93cac310234",
   "metadata": {},
   "outputs": [
    {
     "name": "stdout",
     "output_type": "stream",
     "text": [
      "✅ Categorie trovate: 75\n",
      "['Sandali', 'Sandali', 'Sandali', 'Sandali', 'Sandali']\n"
     ]
    }
   ],
   "source": [
    "import requests\n",
    "from bs4 import BeautifulSoup\n",
    "\n",
    "headers = {\n",
    "    \"User-Agent\": \"Mozilla/5.0\"\n",
    "}\n",
    "\n",
    "categoria_prodotto_m = []\n",
    "\n",
    "for link in link_prodotti_m:\n",
    "    response = requests.get(link, headers=headers)\n",
    "    soup = BeautifulSoup(response.text, \"html.parser\")\n",
    "\n",
    "    breadcrumb_items = soup.find_all(\"a\", class_=\"breadcrumbs__item\")\n",
    "    labels = [b.text.strip().lower() for b in breadcrumb_items]\n",
    "\n",
    "    if len(labels) >= 4:\n",
    "        # Controlla penultimo e terzultimo\n",
    "        if labels[-2] in [\"outlet\", \"uomo\", \"vedi tutto\"] or labels[-3] in [\"outlet\", \"uomo\", \"vedi tutto\"]:\n",
    "            categoria = breadcrumb_items[-4].text.strip()\n",
    "        else:\n",
    "            categoria = breadcrumb_items[-2].text.strip()\n",
    "    elif len(labels) >= 3:\n",
    "        if labels[-2] in [\"outlet\", \"uomo\", \"vedi tutto\"]:\n",
    "            categoria = breadcrumb_items[-3].text.strip()\n",
    "        else:\n",
    "            categoria = breadcrumb_items[-2].text.strip()\n",
    "    elif len(labels) >= 2:\n",
    "        categoria = breadcrumb_items[-2].text.strip()\n",
    "    else:\n",
    "        categoria = \"N/D\"\n",
    "\n",
    "    categoria_prodotto_m.append(categoria)\n",
    "\n",
    "print(f\"✅ Categorie trovate: {len(categoria_prodotto_m)}\")\n",
    "print(categoria_prodotto_m[:5])\n"
   ]
  },
  {
   "cell_type": "code",
   "execution_count": 65,
   "id": "750fc22c-ae9a-4546-8608-c7d9f56a52fd",
   "metadata": {},
   "outputs": [
    {
     "name": "stdout",
     "output_type": "stream",
     "text": [
      "['Sandali', 'Sandali', 'Sandali', 'Sandali', 'Sandali', 'Sandali', 'Sandali', 'Sandali', 'Sandali', 'Sandali', 'Sandali', 'Sandali', 'Sandali', 'Pumps', 'Pumps', 'Sandali', 'Sandali', 'Scarpe', 'Pumps', 'Sandali', 'Ballerinas', 'Scarpe Piatte', 'Scarpe Piatte', 'Pumps', 'Pumps', 'Pumps', 'Pumps', 'Sandali', 'Sandali', 'Scarpe Piatte', 'Pumps', 'Sandali', 'Sandali', 'Sandali', 'Sandali', 'Sandali', 'Sandali', 'Pumps', 'Pumps', 'Pumps', 'Pumps', 'Sandali', 'Sandali', 'Scarpe', 'Pumps', 'Sandali', 'Sandali', 'Sandali', 'Scarpe', 'Sandali', 'Scarpe', 'Sandali', 'Sandali', 'Sandali', 'Stivali', 'Scarpe', 'Ballerinas', 'Ballerinas', 'Ballerinas', 'Donne', 'Scarpe', 'Scarpe', 'Donne', 'Scarpe', 'Ballerinas', 'Ballerinas', 'Ballerinas', 'Ballerinas', 'Ballerinas', 'Vedi tutto', 'Scarpe', 'Scarpe', 'Scarpe', 'Ballerinas', 'Scarpe Piatte', 'Scarpe', 'Scarpe', 'Scarpe', 'Scarpe', 'Scarpe', 'Vedi tutto', 'Vedi tutto', 'Scarpe', 'Scarpe Piatte', 'Scarpe', 'Scarpe', 'Sneakers', 'Scarpe', 'Scarpe', 'Scarpe', 'Sneakers', 'Vedi tutto', 'Sneakers', 'Sneakers', 'Sneakers', 'Sneakers', 'Scarpe', 'Scarpe', 'Sneakers', 'Sneakers', 'Scarpe', 'Scarpe', 'Scarpe', 'Scarpe', 'Scarpe', 'Scarpe', 'Scarpe', 'Scarpe', 'Scarpe', 'Scarpe', 'Scarpe', 'Scarpe', 'Scarpe', 'Scarpe', 'Scarpe', 'Scarpe', 'Scarpe', 'Scarpe', 'Scarpe', 'Scarpe', 'Stivali', 'Stivali', 'Stivali', 'Stivali', 'Stivali', 'Stivali', 'Vedi tutto']\n"
     ]
    }
   ],
   "source": [
    "print(categoria_prodotto_w)"
   ]
  },
  {
   "cell_type": "code",
   "execution_count": 67,
   "id": "830250ec-a5a2-469a-b3ce-49456a15104d",
   "metadata": {},
   "outputs": [],
   "source": [
    "categoria_prodotto_w[69] = \"Scarpe Piatte\"\n",
    "categoria_prodotto_w[80] = \"Scarpe Piatte\"\n",
    "categoria_prodotto_w[81] = \"Scarpe Piatte\"\n",
    "categoria_prodotto_w[91] = \"Sneakers\"\n",
    "categoria_prodotto_w[126] = \"Stivali\"\n"
   ]
  },
  {
   "cell_type": "code",
   "execution_count": 104,
   "id": "75ba23ee-b65c-40d4-ae9d-558691ff990c",
   "metadata": {},
   "outputs": [],
   "source": [
    "for i in range(len(categoria_prodotto_w)):\n",
    "    if categoria_prodotto_w[i] == \"Donne\":\n",
    "        categoria_prodotto_w[i] = \"Scarpe\"\n"
   ]
  },
  {
   "cell_type": "code",
   "execution_count": 137,
   "id": "6fca0c74-2e97-4231-aeaa-1fca3c095e83",
   "metadata": {},
   "outputs": [],
   "source": [
    "for i in range(len(categoria_prodotto_w)):\n",
    "    if categoria_prodotto_w[i] == \"Pumps\":\n",
    "        categoria_prodotto_w[i] = \"Tacchi\"\n"
   ]
  },
  {
   "cell_type": "code",
   "execution_count": 139,
   "id": "eb9989de-b5c1-4f3e-977e-fa851d3a72ea",
   "metadata": {},
   "outputs": [
    {
     "name": "stdout",
     "output_type": "stream",
     "text": [
      "['Sandali', 'Sandali', 'Sandali', 'Sandali', 'Sandali', 'Sandali', 'Sandali', 'Sandali', 'Sandali', 'Sandali', 'Sandali', 'Sandali', 'Sandali', 'Tacchi', 'Tacchi', 'Sandali', 'Sandali', 'Scarpe', 'Tacchi', 'Sandali', 'Ballerinas', 'Scarpe Piatte', 'Scarpe Piatte', 'Tacchi', 'Tacchi', 'Tacchi', 'Tacchi', 'Sandali', 'Sandali', 'Scarpe Piatte', 'Tacchi', 'Sandali', 'Sandali', 'Sandali', 'Sandali', 'Sandali', 'Sandali', 'Tacchi', 'Tacchi', 'Tacchi', 'Tacchi', 'Sandali', 'Sandali', 'Scarpe', 'Tacchi', 'Sandali', 'Sandali', 'Sandali', 'Scarpe', 'Sandali', 'Scarpe', 'Sandali', 'Sandali', 'Sandali', 'Stivali', 'Scarpe', 'Ballerinas', 'Ballerinas', 'Ballerinas', 'Scarpe', 'Scarpe', 'Scarpe', 'Scarpe', 'Scarpe', 'Ballerinas', 'Ballerinas', 'Ballerinas', 'Ballerinas', 'Ballerinas', 'Scarpe Piatte', 'Scarpe', 'Scarpe', 'Scarpe', 'Ballerinas', 'Scarpe Piatte', 'Scarpe', 'Scarpe', 'Scarpe', 'Scarpe', 'Scarpe', 'Scarpe Piatte', 'Scarpe Piatte', 'Scarpe', 'Scarpe Piatte', 'Scarpe', 'Scarpe', 'Sneakers', 'Scarpe', 'Scarpe', 'Scarpe', 'Sneakers', 'Sneakers', 'Sneakers', 'Sneakers', 'Sneakers', 'Sneakers', 'Scarpe', 'Scarpe', 'Sneakers', 'Sneakers', 'Scarpe', 'Scarpe', 'Scarpe', 'Scarpe', 'Scarpe', 'Scarpe', 'Scarpe', 'Scarpe', 'Scarpe', 'Scarpe', 'Scarpe', 'Scarpe', 'Scarpe', 'Scarpe', 'Scarpe', 'Scarpe', 'Scarpe', 'Scarpe', 'Scarpe', 'Scarpe', 'Stivali', 'Stivali', 'Stivali', 'Stivali', 'Stivali', 'Stivali', 'Stivali']\n"
     ]
    }
   ],
   "source": [
    "print(categoria_prodotto_w)"
   ]
  },
  {
   "cell_type": "code",
   "execution_count": 71,
   "id": "d5ab887d-0ac2-49c2-a873-b4510b8ba559",
   "metadata": {},
   "outputs": [
    {
     "name": "stdout",
     "output_type": "stream",
     "text": [
      "['Sandali', 'Sandali', 'Sandali', 'Sandali', 'Sandali', 'Sandali', 'Sandali', 'Sandali', 'Sandali', 'Sandali', 'Sandali', 'Sandali', 'Home', 'Home', 'Home', 'Home', 'Home', 'Home', 'Home', 'Home', 'Home', 'Home', 'Home', 'Home', 'Home', 'Home', 'Home', 'Home', 'Home', 'Vedi tutto', 'Vedi tutto', 'Vedi tutto', 'Home', 'Home', 'Sneakers', 'Vedi tutto', 'Sneakers', 'Sneakers', 'Sneakers', 'Sneakers', 'Sneakers', 'Sneakers', 'Scarpe', 'Sneakers', 'Scarpe', 'Scarpe', 'Scarpe', 'Scarpe', 'Scarpe', 'Scarpe', 'Sandali', 'Sandali', 'Sandali', 'Sandali', 'Scarpe', 'Scarpe', 'Home', 'Home', 'Home', 'Home', 'Home', 'Stivali', 'Stivali', 'Home', 'Home', 'Home', 'Home', 'Stivali', 'Stivali', 'Home', 'Home', 'Home', 'Scarpe', 'Stivali', 'Stivali']\n"
     ]
    }
   ],
   "source": [
    "print(categoria_prodotto_m)"
   ]
  },
  {
   "cell_type": "code",
   "execution_count": 73,
   "id": "8692769d-923e-45a2-ab60-73cbeb6f7cc5",
   "metadata": {},
   "outputs": [],
   "source": [
    "for i in range(len(categoria_prodotto_m)):\n",
    "    if categoria_prodotto_m[i] == \"Home\":\n",
    "        categoria_prodotto_m[i] = \"Scarpe\"\n"
   ]
  },
  {
   "cell_type": "code",
   "execution_count": 75,
   "id": "9489474a-55bc-474f-8334-53db45f4f9c2",
   "metadata": {},
   "outputs": [
    {
     "name": "stdout",
     "output_type": "stream",
     "text": [
      "['Sandali', 'Sandali', 'Sandali', 'Sandali', 'Sandali', 'Sandali', 'Sandali', 'Sandali', 'Sandali', 'Sandali', 'Sandali', 'Sandali', 'Scarpe', 'Scarpe', 'Scarpe', 'Scarpe', 'Scarpe', 'Scarpe', 'Scarpe', 'Scarpe', 'Scarpe', 'Scarpe', 'Scarpe', 'Scarpe', 'Scarpe', 'Scarpe', 'Scarpe', 'Scarpe', 'Scarpe', 'Vedi tutto', 'Vedi tutto', 'Vedi tutto', 'Scarpe', 'Scarpe', 'Sneakers', 'Vedi tutto', 'Sneakers', 'Sneakers', 'Sneakers', 'Sneakers', 'Sneakers', 'Sneakers', 'Scarpe', 'Sneakers', 'Scarpe', 'Scarpe', 'Scarpe', 'Scarpe', 'Scarpe', 'Scarpe', 'Sandali', 'Sandali', 'Sandali', 'Sandali', 'Scarpe', 'Scarpe', 'Scarpe', 'Scarpe', 'Scarpe', 'Scarpe', 'Scarpe', 'Stivali', 'Stivali', 'Scarpe', 'Scarpe', 'Scarpe', 'Scarpe', 'Stivali', 'Stivali', 'Scarpe', 'Scarpe', 'Scarpe', 'Scarpe', 'Stivali', 'Stivali']\n"
     ]
    }
   ],
   "source": [
    "print(categoria_prodotto_m)"
   ]
  },
  {
   "cell_type": "code",
   "execution_count": 79,
   "id": "6967835c-2933-4e3b-8f84-459edc3866ca",
   "metadata": {},
   "outputs": [
    {
     "name": "stdout",
     "output_type": "stream",
     "text": [
      "['Sandali', 'Sandali', 'Sandali', 'Sandali', 'Sandali', 'Sandali', 'Sandali', 'Sandali', 'Sandali', 'Sandali', 'Sandali', 'Sandali', 'Scarpe', 'Scarpe', 'Scarpe', 'Scarpe', 'Scarpe', 'Scarpe', 'Scarpe', 'Scarpe', 'Scarpe', 'Scarpe', 'Scarpe', 'Scarpe', 'Scarpe', 'Scarpe', 'Scarpe', 'Scarpe', 'Scarpe', 'Scarpe', 'Scarpe', 'Scarpe', 'Scarpe', 'Scarpe', 'Sneakers', 'Scarpe', 'Sneakers', 'Sneakers', 'Sneakers', 'Sneakers', 'Sneakers', 'Sneakers', 'Scarpe', 'Sneakers', 'Scarpe', 'Scarpe', 'Scarpe', 'Scarpe', 'Scarpe', 'Scarpe', 'Sandali', 'Sandali', 'Sandali', 'Sandali', 'Scarpe', 'Scarpe', 'Scarpe', 'Scarpe', 'Scarpe', 'Scarpe', 'Scarpe', 'Stivali', 'Stivali', 'Scarpe', 'Scarpe', 'Scarpe', 'Scarpe', 'Stivali', 'Stivali', 'Scarpe', 'Scarpe', 'Scarpe', 'Scarpe', 'Stivali', 'Stivali']\n"
     ]
    }
   ],
   "source": [
    "print(categoria_prodotto_m)"
   ]
  },
  {
   "cell_type": "code",
   "execution_count": 77,
   "id": "191ba62e-a566-48e5-a0b9-bc31aba2f835",
   "metadata": {},
   "outputs": [],
   "source": [
    "for i in range(len(categoria_prodotto_m)):\n",
    "    if categoria_prodotto_m[i] == \"Vedi tutto\":\n",
    "        categoria_prodotto_m[i] = \"Scarpe\""
   ]
  },
  {
   "cell_type": "code",
   "execution_count": 178,
   "id": "9adcd9df-c7db-43d3-9bcf-59643d592a72",
   "metadata": {},
   "outputs": [],
   "source": [
    "#nome_prodotto_m\n",
    "#prezzi_prodotti_m\n",
    "#colori_prodotti_m\n",
    "#link_prodotti_m\n",
    "#taglie_prodotti_m\n",
    "#range_taglie_m\n",
    "#descrizione_prodotti_m\n",
    "#categoria_prodotto_m"
   ]
  },
  {
   "cell_type": "code",
   "execution_count": 515,
   "id": "4fd13530-5185-4809-9fd4-45b92d17bae9",
   "metadata": {},
   "outputs": [],
   "source": [
    "articoli_w = {\"nome_prodotto\":nome_prodotto_w,\n",
    "        \"prezzo\":prezzi_prodotti_w,\n",
    "        \"link\":link_prodotti,\n",
    "        \"sesso\" : \"donna\",\n",
    "        \"categoria\": categoria_prodotto_w,\n",
    "        \"range taglie\": range_taglie_w,\n",
    "        \"taglie\": taglie_prodotti_w,\n",
    "        \"colore\" : colori_prodotti_w,\n",
    "        \"descrizione\" : descrizione_prodotti_w,\n",
    "        \"brand\": \"Nae\"   \n",
    "           }"
   ]
  },
  {
   "cell_type": "code",
   "execution_count": 517,
   "id": "5d846cb6-9d47-4070-8ece-263e0bd0dcf9",
   "metadata": {},
   "outputs": [],
   "source": [
    "articoli_m = {\"nome_prodotto\":nome_prodotto_m,\n",
    "        \"prezzo\":prezzi_prodotti_m,\n",
    "        \"link\":link_prodotti_m,\n",
    "        \"sesso\" : \"uomo\",\n",
    "        \"categoria\": categoria_prodotto_m,\n",
    "        \"range taglie\": range_taglie_m,\n",
    "        \"taglie\": taglie_prodotti_m,      \n",
    "        \"colore\" : colori_prodotti_m,\n",
    "        \"descrizione\" : descrizione_prodotti_m,\n",
    "        \"brand\": \"Nae\"   \n",
    "           }"
   ]
  },
  {
   "cell_type": "code",
   "execution_count": 519,
   "id": "c71f8925-b900-4ae5-810e-cd395fe5dfee",
   "metadata": {},
   "outputs": [
    {
     "data": {
      "text/html": [
       "<div>\n",
       "<style scoped>\n",
       "    .dataframe tbody tr th:only-of-type {\n",
       "        vertical-align: middle;\n",
       "    }\n",
       "\n",
       "    .dataframe tbody tr th {\n",
       "        vertical-align: top;\n",
       "    }\n",
       "\n",
       "    .dataframe thead th {\n",
       "        text-align: right;\n",
       "    }\n",
       "</style>\n",
       "<table border=\"1\" class=\"dataframe\">\n",
       "  <thead>\n",
       "    <tr style=\"text-align: right;\">\n",
       "      <th></th>\n",
       "      <th>nome_prodotto</th>\n",
       "      <th>prezzo</th>\n",
       "      <th>link</th>\n",
       "      <th>sesso</th>\n",
       "      <th>categoria</th>\n",
       "      <th>range taglie</th>\n",
       "      <th>taglie</th>\n",
       "      <th>colore</th>\n",
       "      <th>descrizione</th>\n",
       "      <th>brand</th>\n",
       "    </tr>\n",
       "  </thead>\n",
       "  <tbody>\n",
       "    <tr>\n",
       "      <th>0</th>\n",
       "      <td>OKINA Black</td>\n",
       "      <td>€110,00</td>\n",
       "      <td>https://nae-vegan.com/it-it/products/okina_bla...</td>\n",
       "      <td>donna</td>\n",
       "      <td>Sandali</td>\n",
       "      <td>36 - 46</td>\n",
       "      <td>[36, 37, 38, 39, 40, 41, 42, 43, 44, 45, 46]</td>\n",
       "      <td>Black</td>\n",
       "      <td>Sandali vegani dal design eco-compatibile e da...</td>\n",
       "      <td>Nae</td>\n",
       "    </tr>\n",
       "    <tr>\n",
       "      <th>1</th>\n",
       "      <td>OKINA Green</td>\n",
       "      <td>€110,00</td>\n",
       "      <td>https://nae-vegan.com/it-it/products/okina_gre...</td>\n",
       "      <td>donna</td>\n",
       "      <td>Sandali</td>\n",
       "      <td>36 - 46</td>\n",
       "      <td>[36, 37, 38, 39, 40, 41, 42, 43, 44, 45, 46]</td>\n",
       "      <td>Green</td>\n",
       "      <td>Sandali vegani dal design ecologico ed ecocomp...</td>\n",
       "      <td>Nae</td>\n",
       "    </tr>\n",
       "    <tr>\n",
       "      <th>2</th>\n",
       "      <td>TONGA Black</td>\n",
       "      <td>€110,00</td>\n",
       "      <td>https://nae-vegan.com/it-it/products/tonga_bla...</td>\n",
       "      <td>donna</td>\n",
       "      <td>Sandali</td>\n",
       "      <td>36 - 46</td>\n",
       "      <td>[36, 37, 38, 39, 40, 41, 42, 43, 44, 45, 46]</td>\n",
       "      <td>Black</td>\n",
       "      <td>Sandali vegani con un design ecologico a tripl...</td>\n",
       "      <td>Nae</td>\n",
       "    </tr>\n",
       "    <tr>\n",
       "      <th>3</th>\n",
       "      <td>TONGA Green</td>\n",
       "      <td>€110,00</td>\n",
       "      <td>https://nae-vegan.com/it-it/products/tonga_gre...</td>\n",
       "      <td>donna</td>\n",
       "      <td>Sandali</td>\n",
       "      <td>36 - 46</td>\n",
       "      <td>[36, 37, 38, 39, 40, 41, 42, 43, 44, 45, 46]</td>\n",
       "      <td>Green</td>\n",
       "      <td>Sandali vegani con un design ecologico a tripl...</td>\n",
       "      <td>Nae</td>\n",
       "    </tr>\n",
       "    <tr>\n",
       "      <th>4</th>\n",
       "      <td>DAVU Black</td>\n",
       "      <td>€110,00</td>\n",
       "      <td>https://nae-vegan.com/it-it/products/davu_nera...</td>\n",
       "      <td>donna</td>\n",
       "      <td>Sandali</td>\n",
       "      <td>36 - 46</td>\n",
       "      <td>[36, 37, 38, 39, 40, 41, 42, 43, 44, 45, 46]</td>\n",
       "      <td>Black</td>\n",
       "      <td>Sandali vegani con cinturino incrociato e desi...</td>\n",
       "      <td>Nae</td>\n",
       "    </tr>\n",
       "    <tr>\n",
       "      <th>...</th>\n",
       "      <td>...</td>\n",
       "      <td>...</td>\n",
       "      <td>...</td>\n",
       "      <td>...</td>\n",
       "      <td>...</td>\n",
       "      <td>...</td>\n",
       "      <td>...</td>\n",
       "      <td>...</td>\n",
       "      <td>...</td>\n",
       "      <td>...</td>\n",
       "    </tr>\n",
       "    <tr>\n",
       "      <th>122</th>\n",
       "      <td>GADEA Black</td>\n",
       "      <td>€145,00</td>\n",
       "      <td>https://nae-vegan.com/it-it/products/gadea-black</td>\n",
       "      <td>donna</td>\n",
       "      <td>Stivali</td>\n",
       "      <td>36 - 47</td>\n",
       "      <td>[36, 37, 38, 39, 40, 41, 42, 43, 44, 45, 46, 47]</td>\n",
       "      <td>Black</td>\n",
       "      <td>Gadea Stivale caldo da montagna vegano nero</td>\n",
       "      <td>Nae</td>\n",
       "    </tr>\n",
       "    <tr>\n",
       "      <th>123</th>\n",
       "      <td>GADEA Brown</td>\n",
       "      <td>€145,00</td>\n",
       "      <td>https://nae-vegan.com/it-it/products/gadea-brown</td>\n",
       "      <td>donna</td>\n",
       "      <td>Stivali</td>\n",
       "      <td>36 - 47</td>\n",
       "      <td>[36, 37, 38, 39, 40, 41, 42, 43, 44, 45, 46, 47]</td>\n",
       "      <td>Brown</td>\n",
       "      <td>Gadea Stivale caldo di montagna vegano marrone</td>\n",
       "      <td>Nae</td>\n",
       "    </tr>\n",
       "    <tr>\n",
       "      <th>124</th>\n",
       "      <td>MARCA Black</td>\n",
       "      <td>€135,00</td>\n",
       "      <td>https://nae-vegan.com/it-it/products/marca-black</td>\n",
       "      <td>donna</td>\n",
       "      <td>Stivali</td>\n",
       "      <td>36 - 46</td>\n",
       "      <td>[36, 37, 38, 39, 40, 41, 42, 43, 44, 45, 46]</td>\n",
       "      <td>Black</td>\n",
       "      <td>Marca Black Stivale di Stile Militare Vegano</td>\n",
       "      <td>Nae</td>\n",
       "    </tr>\n",
       "    <tr>\n",
       "      <th>125</th>\n",
       "      <td>RESTA Black</td>\n",
       "      <td>€138,00</td>\n",
       "      <td>https://nae-vegan.com/it-it/products/resta-black</td>\n",
       "      <td>donna</td>\n",
       "      <td>Stivali</td>\n",
       "      <td>36 - 46</td>\n",
       "      <td>[36, 37, 38, 39, 40, 41, 42, 43, 44, 45, 46]</td>\n",
       "      <td>Black</td>\n",
       "      <td>Resta Nero Stivali Vegani alla Caviglia Allacc...</td>\n",
       "      <td>Nae</td>\n",
       "    </tr>\n",
       "    <tr>\n",
       "      <th>126</th>\n",
       "      <td>SIMA Black</td>\n",
       "      <td>€145,00</td>\n",
       "      <td>https://nae-vegan.com/it-it/products/sima-black</td>\n",
       "      <td>donna</td>\n",
       "      <td>Stivali</td>\n",
       "      <td>36 - 42</td>\n",
       "      <td>[36, 37, 38, 39, 40, 41, 42]</td>\n",
       "      <td>Black</td>\n",
       "      <td>Sima Black Platform Mid-Calf Vegan Boots</td>\n",
       "      <td>Nae</td>\n",
       "    </tr>\n",
       "  </tbody>\n",
       "</table>\n",
       "<p>127 rows × 10 columns</p>\n",
       "</div>"
      ],
      "text/plain": [
       "    nome_prodotto   prezzo                                               link  \\\n",
       "0     OKINA Black  €110,00  https://nae-vegan.com/it-it/products/okina_bla...   \n",
       "1     OKINA Green  €110,00  https://nae-vegan.com/it-it/products/okina_gre...   \n",
       "2     TONGA Black  €110,00  https://nae-vegan.com/it-it/products/tonga_bla...   \n",
       "3     TONGA Green  €110,00  https://nae-vegan.com/it-it/products/tonga_gre...   \n",
       "4      DAVU Black  €110,00  https://nae-vegan.com/it-it/products/davu_nera...   \n",
       "..            ...      ...                                                ...   \n",
       "122   GADEA Black  €145,00   https://nae-vegan.com/it-it/products/gadea-black   \n",
       "123   GADEA Brown  €145,00   https://nae-vegan.com/it-it/products/gadea-brown   \n",
       "124   MARCA Black  €135,00   https://nae-vegan.com/it-it/products/marca-black   \n",
       "125   RESTA Black  €138,00   https://nae-vegan.com/it-it/products/resta-black   \n",
       "126    SIMA Black  €145,00    https://nae-vegan.com/it-it/products/sima-black   \n",
       "\n",
       "     sesso categoria range taglie  \\\n",
       "0    donna   Sandali      36 - 46   \n",
       "1    donna   Sandali      36 - 46   \n",
       "2    donna   Sandali      36 - 46   \n",
       "3    donna   Sandali      36 - 46   \n",
       "4    donna   Sandali      36 - 46   \n",
       "..     ...       ...          ...   \n",
       "122  donna   Stivali      36 - 47   \n",
       "123  donna   Stivali      36 - 47   \n",
       "124  donna   Stivali      36 - 46   \n",
       "125  donna   Stivali      36 - 46   \n",
       "126  donna   Stivali      36 - 42   \n",
       "\n",
       "                                               taglie colore  \\\n",
       "0        [36, 37, 38, 39, 40, 41, 42, 43, 44, 45, 46]  Black   \n",
       "1        [36, 37, 38, 39, 40, 41, 42, 43, 44, 45, 46]  Green   \n",
       "2        [36, 37, 38, 39, 40, 41, 42, 43, 44, 45, 46]  Black   \n",
       "3        [36, 37, 38, 39, 40, 41, 42, 43, 44, 45, 46]  Green   \n",
       "4        [36, 37, 38, 39, 40, 41, 42, 43, 44, 45, 46]  Black   \n",
       "..                                                ...    ...   \n",
       "122  [36, 37, 38, 39, 40, 41, 42, 43, 44, 45, 46, 47]  Black   \n",
       "123  [36, 37, 38, 39, 40, 41, 42, 43, 44, 45, 46, 47]  Brown   \n",
       "124      [36, 37, 38, 39, 40, 41, 42, 43, 44, 45, 46]  Black   \n",
       "125      [36, 37, 38, 39, 40, 41, 42, 43, 44, 45, 46]  Black   \n",
       "126                      [36, 37, 38, 39, 40, 41, 42]  Black   \n",
       "\n",
       "                                           descrizione brand  \n",
       "0    Sandali vegani dal design eco-compatibile e da...   Nae  \n",
       "1    Sandali vegani dal design ecologico ed ecocomp...   Nae  \n",
       "2    Sandali vegani con un design ecologico a tripl...   Nae  \n",
       "3    Sandali vegani con un design ecologico a tripl...   Nae  \n",
       "4    Sandali vegani con cinturino incrociato e desi...   Nae  \n",
       "..                                                 ...   ...  \n",
       "122        Gadea Stivale caldo da montagna vegano nero   Nae  \n",
       "123     Gadea Stivale caldo di montagna vegano marrone   Nae  \n",
       "124       Marca Black Stivale di Stile Militare Vegano   Nae  \n",
       "125  Resta Nero Stivali Vegani alla Caviglia Allacc...   Nae  \n",
       "126           Sima Black Platform Mid-Calf Vegan Boots   Nae  \n",
       "\n",
       "[127 rows x 10 columns]"
      ]
     },
     "execution_count": 519,
     "metadata": {},
     "output_type": "execute_result"
    }
   ],
   "source": [
    "import pandas as pd\n",
    "\n",
    "df_donna_nae = pd.DataFrame(articoli_w)\n",
    "\n",
    "df_donna_nae\n"
   ]
  },
  {
   "cell_type": "code",
   "execution_count": 521,
   "id": "93f00315-7767-405e-a24b-d486c401f198",
   "metadata": {},
   "outputs": [
    {
     "data": {
      "text/html": [
       "<div>\n",
       "<style scoped>\n",
       "    .dataframe tbody tr th:only-of-type {\n",
       "        vertical-align: middle;\n",
       "    }\n",
       "\n",
       "    .dataframe tbody tr th {\n",
       "        vertical-align: top;\n",
       "    }\n",
       "\n",
       "    .dataframe thead th {\n",
       "        text-align: right;\n",
       "    }\n",
       "</style>\n",
       "<table border=\"1\" class=\"dataframe\">\n",
       "  <thead>\n",
       "    <tr style=\"text-align: right;\">\n",
       "      <th></th>\n",
       "      <th>nome_prodotto</th>\n",
       "      <th>prezzo</th>\n",
       "      <th>link</th>\n",
       "      <th>sesso</th>\n",
       "      <th>categoria</th>\n",
       "      <th>range taglie</th>\n",
       "      <th>taglie</th>\n",
       "      <th>colore</th>\n",
       "      <th>descrizione</th>\n",
       "      <th>brand</th>\n",
       "    </tr>\n",
       "  </thead>\n",
       "  <tbody>\n",
       "    <tr>\n",
       "      <th>0</th>\n",
       "      <td>OKINA Green</td>\n",
       "      <td>€110,00</td>\n",
       "      <td>https://nae-vegan.com/it-it/products/okina_gre...</td>\n",
       "      <td>uomo</td>\n",
       "      <td>Sandali</td>\n",
       "      <td>36 - 46</td>\n",
       "      <td>[36, 37, 38, 39, 40, 41, 42, 43, 44, 45, 46]</td>\n",
       "      <td>Green</td>\n",
       "      <td>Sandali vegani dal design ecologico ed ecocomp...</td>\n",
       "      <td>Nae</td>\n",
       "    </tr>\n",
       "    <tr>\n",
       "      <th>1</th>\n",
       "      <td>OKINA Black</td>\n",
       "      <td>€110,00</td>\n",
       "      <td>https://nae-vegan.com/it-it/products/okina_bla...</td>\n",
       "      <td>uomo</td>\n",
       "      <td>Sandali</td>\n",
       "      <td>36 - 46</td>\n",
       "      <td>[36, 37, 38, 39, 40, 41, 42, 43, 44, 45, 46]</td>\n",
       "      <td>Black</td>\n",
       "      <td>Sandali vegani dal design eco-compatibile e da...</td>\n",
       "      <td>Nae</td>\n",
       "    </tr>\n",
       "    <tr>\n",
       "      <th>2</th>\n",
       "      <td>TONGA Black</td>\n",
       "      <td>€110,00</td>\n",
       "      <td>https://nae-vegan.com/it-it/products/tonga_bla...</td>\n",
       "      <td>uomo</td>\n",
       "      <td>Sandali</td>\n",
       "      <td>36 - 46</td>\n",
       "      <td>[36, 37, 38, 39, 40, 41, 42, 43, 44, 45, 46]</td>\n",
       "      <td>Black</td>\n",
       "      <td>Sandali vegani con un design ecologico a tripl...</td>\n",
       "      <td>Nae</td>\n",
       "    </tr>\n",
       "    <tr>\n",
       "      <th>3</th>\n",
       "      <td>TONGA Green</td>\n",
       "      <td>€110,00</td>\n",
       "      <td>https://nae-vegan.com/it-it/products/tonga_gre...</td>\n",
       "      <td>uomo</td>\n",
       "      <td>Sandali</td>\n",
       "      <td>36 - 46</td>\n",
       "      <td>[36, 37, 38, 39, 40, 41, 42, 43, 44, 45, 46]</td>\n",
       "      <td>Green</td>\n",
       "      <td>Sandali vegani con un design ecologico a tripl...</td>\n",
       "      <td>Nae</td>\n",
       "    </tr>\n",
       "    <tr>\n",
       "      <th>4</th>\n",
       "      <td>DAVU Black</td>\n",
       "      <td>€110,00</td>\n",
       "      <td>https://nae-vegan.com/it-it/products/davu_nera...</td>\n",
       "      <td>uomo</td>\n",
       "      <td>Sandali</td>\n",
       "      <td>36 - 46</td>\n",
       "      <td>[36, 37, 38, 39, 40, 41, 42, 43, 44, 45, 46]</td>\n",
       "      <td>Black</td>\n",
       "      <td>Sandali vegani con cinturino incrociato e desi...</td>\n",
       "      <td>Nae</td>\n",
       "    </tr>\n",
       "    <tr>\n",
       "      <th>...</th>\n",
       "      <td>...</td>\n",
       "      <td>...</td>\n",
       "      <td>...</td>\n",
       "      <td>...</td>\n",
       "      <td>...</td>\n",
       "      <td>...</td>\n",
       "      <td>...</td>\n",
       "      <td>...</td>\n",
       "      <td>...</td>\n",
       "      <td>...</td>\n",
       "    </tr>\n",
       "    <tr>\n",
       "      <th>70</th>\n",
       "      <td>LUKAS Black</td>\n",
       "      <td>€135,00</td>\n",
       "      <td>https://nae-vegan.com/it-it/products/lukas-black</td>\n",
       "      <td>uomo</td>\n",
       "      <td>Scarpe</td>\n",
       "      <td>40 - 47</td>\n",
       "      <td>[40, 41, 42, 43, 44, 45, 46, 47]</td>\n",
       "      <td>Black</td>\n",
       "      <td>Lukas Nero Stivaletti Chelsea Vegan</td>\n",
       "      <td>Nae</td>\n",
       "    </tr>\n",
       "    <tr>\n",
       "      <th>71</th>\n",
       "      <td>LUKAS Brown</td>\n",
       "      <td>€135,00</td>\n",
       "      <td>https://nae-vegan.com/it-it/products/lukas-brown</td>\n",
       "      <td>uomo</td>\n",
       "      <td>Scarpe</td>\n",
       "      <td>40 - 47</td>\n",
       "      <td>[40, 41, 42, 43, 44, 45, 46, 47]</td>\n",
       "      <td>Brown</td>\n",
       "      <td>Lukas Marrone Stivali Vegani alla Caviglia Che...</td>\n",
       "      <td>Nae</td>\n",
       "    </tr>\n",
       "    <tr>\n",
       "      <th>72</th>\n",
       "      <td>NOAH PINATEX White</td>\n",
       "      <td>€125,00</td>\n",
       "      <td>https://nae-vegan.com/it-it/products/noah-pina...</td>\n",
       "      <td>uomo</td>\n",
       "      <td>Scarpe</td>\n",
       "      <td>36 - 46</td>\n",
       "      <td>[36, 37, 38, 39, 40, 41, 42, 43, 44, 45, 46]</td>\n",
       "      <td>White</td>\n",
       "      <td></td>\n",
       "      <td>Nae</td>\n",
       "    </tr>\n",
       "    <tr>\n",
       "      <th>73</th>\n",
       "      <td>RESTA Black</td>\n",
       "      <td>€138,00</td>\n",
       "      <td>https://nae-vegan.com/it-it/products/resta-black</td>\n",
       "      <td>uomo</td>\n",
       "      <td>Stivali</td>\n",
       "      <td>36 - 46</td>\n",
       "      <td>[36, 37, 38, 39, 40, 41, 42, 43, 44, 45, 46]</td>\n",
       "      <td>Black</td>\n",
       "      <td>Resta Nero Stivali Vegani alla Caviglia Allacc...</td>\n",
       "      <td>Nae</td>\n",
       "    </tr>\n",
       "    <tr>\n",
       "      <th>74</th>\n",
       "      <td>MARCA Black</td>\n",
       "      <td>€135,00</td>\n",
       "      <td>https://nae-vegan.com/it-it/products/marca-black</td>\n",
       "      <td>uomo</td>\n",
       "      <td>Stivali</td>\n",
       "      <td>36 - 46</td>\n",
       "      <td>[36, 37, 38, 39, 40, 41, 42, 43, 44, 45, 46]</td>\n",
       "      <td>Black</td>\n",
       "      <td>Marca Black Stivale di Stile Militare Vegano</td>\n",
       "      <td>Nae</td>\n",
       "    </tr>\n",
       "  </tbody>\n",
       "</table>\n",
       "<p>75 rows × 10 columns</p>\n",
       "</div>"
      ],
      "text/plain": [
       "         nome_prodotto   prezzo  \\\n",
       "0          OKINA Green  €110,00   \n",
       "1          OKINA Black  €110,00   \n",
       "2          TONGA Black  €110,00   \n",
       "3          TONGA Green  €110,00   \n",
       "4           DAVU Black  €110,00   \n",
       "..                 ...      ...   \n",
       "70         LUKAS Black  €135,00   \n",
       "71         LUKAS Brown  €135,00   \n",
       "72  NOAH PINATEX White  €125,00   \n",
       "73         RESTA Black  €138,00   \n",
       "74         MARCA Black  €135,00   \n",
       "\n",
       "                                                 link sesso categoria  \\\n",
       "0   https://nae-vegan.com/it-it/products/okina_gre...  uomo   Sandali   \n",
       "1   https://nae-vegan.com/it-it/products/okina_bla...  uomo   Sandali   \n",
       "2   https://nae-vegan.com/it-it/products/tonga_bla...  uomo   Sandali   \n",
       "3   https://nae-vegan.com/it-it/products/tonga_gre...  uomo   Sandali   \n",
       "4   https://nae-vegan.com/it-it/products/davu_nera...  uomo   Sandali   \n",
       "..                                                ...   ...       ...   \n",
       "70   https://nae-vegan.com/it-it/products/lukas-black  uomo    Scarpe   \n",
       "71   https://nae-vegan.com/it-it/products/lukas-brown  uomo    Scarpe   \n",
       "72  https://nae-vegan.com/it-it/products/noah-pina...  uomo    Scarpe   \n",
       "73   https://nae-vegan.com/it-it/products/resta-black  uomo   Stivali   \n",
       "74   https://nae-vegan.com/it-it/products/marca-black  uomo   Stivali   \n",
       "\n",
       "   range taglie                                        taglie colore  \\\n",
       "0       36 - 46  [36, 37, 38, 39, 40, 41, 42, 43, 44, 45, 46]  Green   \n",
       "1       36 - 46  [36, 37, 38, 39, 40, 41, 42, 43, 44, 45, 46]  Black   \n",
       "2       36 - 46  [36, 37, 38, 39, 40, 41, 42, 43, 44, 45, 46]  Black   \n",
       "3       36 - 46  [36, 37, 38, 39, 40, 41, 42, 43, 44, 45, 46]  Green   \n",
       "4       36 - 46  [36, 37, 38, 39, 40, 41, 42, 43, 44, 45, 46]  Black   \n",
       "..          ...                                           ...    ...   \n",
       "70      40 - 47              [40, 41, 42, 43, 44, 45, 46, 47]  Black   \n",
       "71      40 - 47              [40, 41, 42, 43, 44, 45, 46, 47]  Brown   \n",
       "72      36 - 46  [36, 37, 38, 39, 40, 41, 42, 43, 44, 45, 46]  White   \n",
       "73      36 - 46  [36, 37, 38, 39, 40, 41, 42, 43, 44, 45, 46]  Black   \n",
       "74      36 - 46  [36, 37, 38, 39, 40, 41, 42, 43, 44, 45, 46]  Black   \n",
       "\n",
       "                                          descrizione brand  \n",
       "0   Sandali vegani dal design ecologico ed ecocomp...   Nae  \n",
       "1   Sandali vegani dal design eco-compatibile e da...   Nae  \n",
       "2   Sandali vegani con un design ecologico a tripl...   Nae  \n",
       "3   Sandali vegani con un design ecologico a tripl...   Nae  \n",
       "4   Sandali vegani con cinturino incrociato e desi...   Nae  \n",
       "..                                                ...   ...  \n",
       "70                Lukas Nero Stivaletti Chelsea Vegan   Nae  \n",
       "71  Lukas Marrone Stivali Vegani alla Caviglia Che...   Nae  \n",
       "72                                                      Nae  \n",
       "73  Resta Nero Stivali Vegani alla Caviglia Allacc...   Nae  \n",
       "74       Marca Black Stivale di Stile Militare Vegano   Nae  \n",
       "\n",
       "[75 rows x 10 columns]"
      ]
     },
     "execution_count": 521,
     "metadata": {},
     "output_type": "execute_result"
    }
   ],
   "source": [
    "\n",
    "df_uomo_nae = pd.DataFrame(articoli_m)\n",
    "\n",
    "df_uomo_nae\n"
   ]
  },
  {
   "cell_type": "code",
   "execution_count": 523,
   "id": "5aa9a057-b848-4d2f-a8df-4af677446611",
   "metadata": {},
   "outputs": [
    {
     "data": {
      "text/html": [
       "<div>\n",
       "<style scoped>\n",
       "    .dataframe tbody tr th:only-of-type {\n",
       "        vertical-align: middle;\n",
       "    }\n",
       "\n",
       "    .dataframe tbody tr th {\n",
       "        vertical-align: top;\n",
       "    }\n",
       "\n",
       "    .dataframe thead th {\n",
       "        text-align: right;\n",
       "    }\n",
       "</style>\n",
       "<table border=\"1\" class=\"dataframe\">\n",
       "  <thead>\n",
       "    <tr style=\"text-align: right;\">\n",
       "      <th></th>\n",
       "      <th>nome_prodotto</th>\n",
       "      <th>prezzo</th>\n",
       "      <th>link</th>\n",
       "      <th>sesso</th>\n",
       "      <th>categoria</th>\n",
       "      <th>range taglie</th>\n",
       "      <th>taglie</th>\n",
       "      <th>colore</th>\n",
       "      <th>descrizione</th>\n",
       "      <th>brand</th>\n",
       "    </tr>\n",
       "  </thead>\n",
       "  <tbody>\n",
       "    <tr>\n",
       "      <th>0</th>\n",
       "      <td>OKINA Black</td>\n",
       "      <td>€110,00</td>\n",
       "      <td>https://nae-vegan.com/it-it/products/okina_bla...</td>\n",
       "      <td>donna</td>\n",
       "      <td>Sandali</td>\n",
       "      <td>36 - 46</td>\n",
       "      <td>[36, 37, 38, 39, 40, 41, 42, 43, 44, 45, 46]</td>\n",
       "      <td>Black</td>\n",
       "      <td>Sandali vegani dal design eco-compatibile e da...</td>\n",
       "      <td>Nae</td>\n",
       "    </tr>\n",
       "    <tr>\n",
       "      <th>1</th>\n",
       "      <td>OKINA Green</td>\n",
       "      <td>€110,00</td>\n",
       "      <td>https://nae-vegan.com/it-it/products/okina_gre...</td>\n",
       "      <td>donna</td>\n",
       "      <td>Sandali</td>\n",
       "      <td>36 - 46</td>\n",
       "      <td>[36, 37, 38, 39, 40, 41, 42, 43, 44, 45, 46]</td>\n",
       "      <td>Green</td>\n",
       "      <td>Sandali vegani dal design ecologico ed ecocomp...</td>\n",
       "      <td>Nae</td>\n",
       "    </tr>\n",
       "    <tr>\n",
       "      <th>2</th>\n",
       "      <td>TONGA Black</td>\n",
       "      <td>€110,00</td>\n",
       "      <td>https://nae-vegan.com/it-it/products/tonga_bla...</td>\n",
       "      <td>donna</td>\n",
       "      <td>Sandali</td>\n",
       "      <td>36 - 46</td>\n",
       "      <td>[36, 37, 38, 39, 40, 41, 42, 43, 44, 45, 46]</td>\n",
       "      <td>Black</td>\n",
       "      <td>Sandali vegani con un design ecologico a tripl...</td>\n",
       "      <td>Nae</td>\n",
       "    </tr>\n",
       "    <tr>\n",
       "      <th>3</th>\n",
       "      <td>TONGA Green</td>\n",
       "      <td>€110,00</td>\n",
       "      <td>https://nae-vegan.com/it-it/products/tonga_gre...</td>\n",
       "      <td>donna</td>\n",
       "      <td>Sandali</td>\n",
       "      <td>36 - 46</td>\n",
       "      <td>[36, 37, 38, 39, 40, 41, 42, 43, 44, 45, 46]</td>\n",
       "      <td>Green</td>\n",
       "      <td>Sandali vegani con un design ecologico a tripl...</td>\n",
       "      <td>Nae</td>\n",
       "    </tr>\n",
       "    <tr>\n",
       "      <th>4</th>\n",
       "      <td>DAVU Black</td>\n",
       "      <td>€110,00</td>\n",
       "      <td>https://nae-vegan.com/it-it/products/davu_nera...</td>\n",
       "      <td>donna</td>\n",
       "      <td>Sandali</td>\n",
       "      <td>36 - 46</td>\n",
       "      <td>[36, 37, 38, 39, 40, 41, 42, 43, 44, 45, 46]</td>\n",
       "      <td>Black</td>\n",
       "      <td>Sandali vegani con cinturino incrociato e desi...</td>\n",
       "      <td>Nae</td>\n",
       "    </tr>\n",
       "    <tr>\n",
       "      <th>...</th>\n",
       "      <td>...</td>\n",
       "      <td>...</td>\n",
       "      <td>...</td>\n",
       "      <td>...</td>\n",
       "      <td>...</td>\n",
       "      <td>...</td>\n",
       "      <td>...</td>\n",
       "      <td>...</td>\n",
       "      <td>...</td>\n",
       "      <td>...</td>\n",
       "    </tr>\n",
       "    <tr>\n",
       "      <th>197</th>\n",
       "      <td>LUKAS Black</td>\n",
       "      <td>€135,00</td>\n",
       "      <td>https://nae-vegan.com/it-it/products/lukas-black</td>\n",
       "      <td>uomo</td>\n",
       "      <td>Scarpe</td>\n",
       "      <td>40 - 47</td>\n",
       "      <td>[40, 41, 42, 43, 44, 45, 46, 47]</td>\n",
       "      <td>Black</td>\n",
       "      <td>Lukas Nero Stivaletti Chelsea Vegan</td>\n",
       "      <td>Nae</td>\n",
       "    </tr>\n",
       "    <tr>\n",
       "      <th>198</th>\n",
       "      <td>LUKAS Brown</td>\n",
       "      <td>€135,00</td>\n",
       "      <td>https://nae-vegan.com/it-it/products/lukas-brown</td>\n",
       "      <td>uomo</td>\n",
       "      <td>Scarpe</td>\n",
       "      <td>40 - 47</td>\n",
       "      <td>[40, 41, 42, 43, 44, 45, 46, 47]</td>\n",
       "      <td>Brown</td>\n",
       "      <td>Lukas Marrone Stivali Vegani alla Caviglia Che...</td>\n",
       "      <td>Nae</td>\n",
       "    </tr>\n",
       "    <tr>\n",
       "      <th>199</th>\n",
       "      <td>NOAH PINATEX White</td>\n",
       "      <td>€125,00</td>\n",
       "      <td>https://nae-vegan.com/it-it/products/noah-pina...</td>\n",
       "      <td>uomo</td>\n",
       "      <td>Scarpe</td>\n",
       "      <td>36 - 46</td>\n",
       "      <td>[36, 37, 38, 39, 40, 41, 42, 43, 44, 45, 46]</td>\n",
       "      <td>White</td>\n",
       "      <td></td>\n",
       "      <td>Nae</td>\n",
       "    </tr>\n",
       "    <tr>\n",
       "      <th>200</th>\n",
       "      <td>RESTA Black</td>\n",
       "      <td>€138,00</td>\n",
       "      <td>https://nae-vegan.com/it-it/products/resta-black</td>\n",
       "      <td>uomo</td>\n",
       "      <td>Stivali</td>\n",
       "      <td>36 - 46</td>\n",
       "      <td>[36, 37, 38, 39, 40, 41, 42, 43, 44, 45, 46]</td>\n",
       "      <td>Black</td>\n",
       "      <td>Resta Nero Stivali Vegani alla Caviglia Allacc...</td>\n",
       "      <td>Nae</td>\n",
       "    </tr>\n",
       "    <tr>\n",
       "      <th>201</th>\n",
       "      <td>MARCA Black</td>\n",
       "      <td>€135,00</td>\n",
       "      <td>https://nae-vegan.com/it-it/products/marca-black</td>\n",
       "      <td>uomo</td>\n",
       "      <td>Stivali</td>\n",
       "      <td>36 - 46</td>\n",
       "      <td>[36, 37, 38, 39, 40, 41, 42, 43, 44, 45, 46]</td>\n",
       "      <td>Black</td>\n",
       "      <td>Marca Black Stivale di Stile Militare Vegano</td>\n",
       "      <td>Nae</td>\n",
       "    </tr>\n",
       "  </tbody>\n",
       "</table>\n",
       "<p>202 rows × 10 columns</p>\n",
       "</div>"
      ],
      "text/plain": [
       "          nome_prodotto   prezzo  \\\n",
       "0           OKINA Black  €110,00   \n",
       "1           OKINA Green  €110,00   \n",
       "2           TONGA Black  €110,00   \n",
       "3           TONGA Green  €110,00   \n",
       "4            DAVU Black  €110,00   \n",
       "..                  ...      ...   \n",
       "197         LUKAS Black  €135,00   \n",
       "198         LUKAS Brown  €135,00   \n",
       "199  NOAH PINATEX White  €125,00   \n",
       "200         RESTA Black  €138,00   \n",
       "201         MARCA Black  €135,00   \n",
       "\n",
       "                                                  link  sesso categoria  \\\n",
       "0    https://nae-vegan.com/it-it/products/okina_bla...  donna   Sandali   \n",
       "1    https://nae-vegan.com/it-it/products/okina_gre...  donna   Sandali   \n",
       "2    https://nae-vegan.com/it-it/products/tonga_bla...  donna   Sandali   \n",
       "3    https://nae-vegan.com/it-it/products/tonga_gre...  donna   Sandali   \n",
       "4    https://nae-vegan.com/it-it/products/davu_nera...  donna   Sandali   \n",
       "..                                                 ...    ...       ...   \n",
       "197   https://nae-vegan.com/it-it/products/lukas-black   uomo    Scarpe   \n",
       "198   https://nae-vegan.com/it-it/products/lukas-brown   uomo    Scarpe   \n",
       "199  https://nae-vegan.com/it-it/products/noah-pina...   uomo    Scarpe   \n",
       "200   https://nae-vegan.com/it-it/products/resta-black   uomo   Stivali   \n",
       "201   https://nae-vegan.com/it-it/products/marca-black   uomo   Stivali   \n",
       "\n",
       "    range taglie                                        taglie colore  \\\n",
       "0        36 - 46  [36, 37, 38, 39, 40, 41, 42, 43, 44, 45, 46]  Black   \n",
       "1        36 - 46  [36, 37, 38, 39, 40, 41, 42, 43, 44, 45, 46]  Green   \n",
       "2        36 - 46  [36, 37, 38, 39, 40, 41, 42, 43, 44, 45, 46]  Black   \n",
       "3        36 - 46  [36, 37, 38, 39, 40, 41, 42, 43, 44, 45, 46]  Green   \n",
       "4        36 - 46  [36, 37, 38, 39, 40, 41, 42, 43, 44, 45, 46]  Black   \n",
       "..           ...                                           ...    ...   \n",
       "197      40 - 47              [40, 41, 42, 43, 44, 45, 46, 47]  Black   \n",
       "198      40 - 47              [40, 41, 42, 43, 44, 45, 46, 47]  Brown   \n",
       "199      36 - 46  [36, 37, 38, 39, 40, 41, 42, 43, 44, 45, 46]  White   \n",
       "200      36 - 46  [36, 37, 38, 39, 40, 41, 42, 43, 44, 45, 46]  Black   \n",
       "201      36 - 46  [36, 37, 38, 39, 40, 41, 42, 43, 44, 45, 46]  Black   \n",
       "\n",
       "                                           descrizione brand  \n",
       "0    Sandali vegani dal design eco-compatibile e da...   Nae  \n",
       "1    Sandali vegani dal design ecologico ed ecocomp...   Nae  \n",
       "2    Sandali vegani con un design ecologico a tripl...   Nae  \n",
       "3    Sandali vegani con un design ecologico a tripl...   Nae  \n",
       "4    Sandali vegani con cinturino incrociato e desi...   Nae  \n",
       "..                                                 ...   ...  \n",
       "197                Lukas Nero Stivaletti Chelsea Vegan   Nae  \n",
       "198  Lukas Marrone Stivali Vegani alla Caviglia Che...   Nae  \n",
       "199                                                      Nae  \n",
       "200  Resta Nero Stivali Vegani alla Caviglia Allacc...   Nae  \n",
       "201       Marca Black Stivale di Stile Militare Vegano   Nae  \n",
       "\n",
       "[202 rows x 10 columns]"
      ]
     },
     "execution_count": 523,
     "metadata": {},
     "output_type": "execute_result"
    }
   ],
   "source": [
    "df_uomo_donna_nae= pd.concat([df_donna_nae, df_uomo_nae], ignore_index=True)\n",
    "df_uomo_donna_nae"
   ]
  },
  {
   "cell_type": "code",
   "execution_count": 525,
   "id": "7b289b15-cbb4-434a-8d99-4a88601a54d3",
   "metadata": {},
   "outputs": [
    {
     "name": "stdout",
     "output_type": "stream",
     "text": [
      "<class 'pandas.core.frame.DataFrame'>\n",
      "RangeIndex: 202 entries, 0 to 201\n",
      "Data columns (total 10 columns):\n",
      " #   Column         Non-Null Count  Dtype \n",
      "---  ------         --------------  ----- \n",
      " 0   nome_prodotto  202 non-null    object\n",
      " 1   prezzo         202 non-null    object\n",
      " 2   link           202 non-null    object\n",
      " 3   sesso          202 non-null    object\n",
      " 4   categoria      202 non-null    object\n",
      " 5   range taglie   202 non-null    object\n",
      " 6   taglie         202 non-null    object\n",
      " 7   colore         202 non-null    object\n",
      " 8   descrizione    202 non-null    object\n",
      " 9   brand          202 non-null    object\n",
      "dtypes: object(10)\n",
      "memory usage: 15.9+ KB\n"
     ]
    }
   ],
   "source": [
    "df_uomo_donna_nae.info()"
   ]
  },
  {
   "cell_type": "code",
   "execution_count": 527,
   "id": "c2b7d7d9-2f66-4137-b98d-a776f72c0908",
   "metadata": {},
   "outputs": [
    {
     "name": "stdout",
     "output_type": "stream",
     "text": [
      "Articoli in vendita: 202\n"
     ]
    }
   ],
   "source": [
    "#Quanti articoli di scarpe vende Nae?\n",
    "numero_articoli = len(df_uomo_donna_nae)\n",
    "print(f\"Articoli in vendita: {numero_articoli}\")"
   ]
  },
  {
   "cell_type": "code",
   "execution_count": 529,
   "id": "34723806-4fbd-46f2-abf2-88a89bf1edca",
   "metadata": {},
   "outputs": [
    {
     "data": {
      "text/plain": [
       "sesso\n",
       "donna    127\n",
       "uomo      75\n",
       "Name: count, dtype: int64"
      ]
     },
     "execution_count": 529,
     "metadata": {},
     "output_type": "execute_result"
    }
   ],
   "source": [
    "#Quanti articoli da donna vende Nae e quanti da uomo?\n",
    "df_uomo_donna_nae[\"sesso\"].value_counts()"
   ]
  },
  {
   "cell_type": "code",
   "execution_count": 531,
   "id": "9c0fe84a-f513-420a-8ac8-02344f3afa53",
   "metadata": {},
   "outputs": [
    {
     "data": {
      "text/plain": [
       "categoria\n",
       "Scarpe           91\n",
       "Sandali          49\n",
       "Sneakers         17\n",
       "Stivali          14\n",
       "Tacchi           13\n",
       "Ballerinas       10\n",
       "Scarpe Piatte     8\n",
       "Name: count, dtype: int64"
      ]
     },
     "execution_count": 531,
     "metadata": {},
     "output_type": "execute_result"
    }
   ],
   "source": [
    "#Quanti articoli vende Nae per tipologia?\n",
    "df_uomo_donna_nae[\"categoria\"].value_counts()"
   ]
  },
  {
   "cell_type": "code",
   "execution_count": 535,
   "id": "6e849911-3e76-47a3-887d-e186e85773a2",
   "metadata": {},
   "outputs": [],
   "source": [
    "df_uomo_donna_nae[\"prezzo\"] = df_uomo_donna_nae[\"prezzo\"].str.replace(\"€\", \"\", regex=False)\n",
    "df_uomo_donna_nae[\"prezzo\"] = df_uomo_donna_nae[\"prezzo\"].str.replace(\",\", \".\", regex=False)\n",
    "df_uomo_donna_nae[\"prezzo\"] = df_uomo_donna_nae[\"prezzo\"].astype(float)\n",
    "#data cleaning della colonna prezzo"
   ]
  },
  {
   "cell_type": "code",
   "execution_count": 537,
   "id": "ca086a31-cd26-4a80-9a46-4832fa1307c0",
   "metadata": {},
   "outputs": [
    {
     "data": {
      "text/plain": [
       "118.45"
      ]
     },
     "execution_count": 537,
     "metadata": {},
     "output_type": "execute_result"
    }
   ],
   "source": [
    "#prezzo medio\n",
    "pm_nae = round(df_uomo_donna_nae[\"prezzo\"].mean(),2)\n",
    "pm_nae"
   ]
  },
  {
   "cell_type": "code",
   "execution_count": 539,
   "id": "08e4783a-f885-4314-91b0-390c36ac6875",
   "metadata": {},
   "outputs": [
    {
     "data": {
      "text/plain": [
       "categoria\n",
       "Ballerinas       108.50\n",
       "Sandali           99.37\n",
       "Scarpe           127.51\n",
       "Scarpe Piatte    113.88\n",
       "Sneakers         119.59\n",
       "Stivali          141.14\n",
       "Tacchi           111.54\n",
       "Name: prezzo, dtype: float64"
      ]
     },
     "execution_count": 539,
     "metadata": {},
     "output_type": "execute_result"
    }
   ],
   "source": [
    "#prezzo medio per categoria\n",
    "pm_categoria_nae = round(df_uomo_donna_nae.groupby(\"categoria\")[\"prezzo\"].mean(),2)\n",
    "pm_categoria_nae"
   ]
  },
  {
   "cell_type": "code",
   "execution_count": 541,
   "id": "df4ee907-6899-4eec-8239-9f903b630a3b",
   "metadata": {},
   "outputs": [
    {
     "data": {
      "text/plain": [
       "sesso\n",
       "donna    116.68\n",
       "uomo     121.45\n",
       "Name: prezzo, dtype: float64"
      ]
     },
     "execution_count": 541,
     "metadata": {},
     "output_type": "execute_result"
    }
   ],
   "source": [
    "#prezzo medio per sesso\n",
    "pm_sesso_nae = round(df_uomo_donna_nae.groupby(\"sesso\")[\"prezzo\"].mean(),2)\n",
    "pm_sesso_nae"
   ]
  },
  {
   "cell_type": "code",
   "execution_count": 543,
   "id": "ec1d43ae-28ee-4626-bf9a-3c9bc0d096e1",
   "metadata": {},
   "outputs": [
    {
     "data": {
      "text/html": [
       "<div>\n",
       "<style scoped>\n",
       "    .dataframe tbody tr th:only-of-type {\n",
       "        vertical-align: middle;\n",
       "    }\n",
       "\n",
       "    .dataframe tbody tr th {\n",
       "        vertical-align: top;\n",
       "    }\n",
       "\n",
       "    .dataframe thead th {\n",
       "        text-align: right;\n",
       "    }\n",
       "</style>\n",
       "<table border=\"1\" class=\"dataframe\">\n",
       "  <thead>\n",
       "    <tr style=\"text-align: right;\">\n",
       "      <th></th>\n",
       "      <th>prezzo</th>\n",
       "    </tr>\n",
       "  </thead>\n",
       "  <tbody>\n",
       "    <tr>\n",
       "      <th>count</th>\n",
       "      <td>202.000000</td>\n",
       "    </tr>\n",
       "    <tr>\n",
       "      <th>mean</th>\n",
       "      <td>118.450495</td>\n",
       "    </tr>\n",
       "    <tr>\n",
       "      <th>std</th>\n",
       "      <td>23.681553</td>\n",
       "    </tr>\n",
       "    <tr>\n",
       "      <th>min</th>\n",
       "      <td>68.000000</td>\n",
       "    </tr>\n",
       "    <tr>\n",
       "      <th>25%</th>\n",
       "      <td>99.000000</td>\n",
       "    </tr>\n",
       "    <tr>\n",
       "      <th>50%</th>\n",
       "      <td>116.500000</td>\n",
       "    </tr>\n",
       "    <tr>\n",
       "      <th>75%</th>\n",
       "      <td>135.000000</td>\n",
       "    </tr>\n",
       "    <tr>\n",
       "      <th>max</th>\n",
       "      <td>229.000000</td>\n",
       "    </tr>\n",
       "  </tbody>\n",
       "</table>\n",
       "</div>"
      ],
      "text/plain": [
       "           prezzo\n",
       "count  202.000000\n",
       "mean   118.450495\n",
       "std     23.681553\n",
       "min     68.000000\n",
       "25%     99.000000\n",
       "50%    116.500000\n",
       "75%    135.000000\n",
       "max    229.000000"
      ]
     },
     "execution_count": 543,
     "metadata": {},
     "output_type": "execute_result"
    }
   ],
   "source": [
    "df_uomo_donna_nae.describe()"
   ]
  },
  {
   "cell_type": "code",
   "execution_count": 545,
   "id": "d3d67342-ccf2-43db-835b-519cfeec875e",
   "metadata": {},
   "outputs": [
    {
     "data": {
      "text/html": [
       "<div>\n",
       "<style scoped>\n",
       "    .dataframe tbody tr th:only-of-type {\n",
       "        vertical-align: middle;\n",
       "    }\n",
       "\n",
       "    .dataframe tbody tr th {\n",
       "        vertical-align: top;\n",
       "    }\n",
       "\n",
       "    .dataframe thead th {\n",
       "        text-align: right;\n",
       "    }\n",
       "</style>\n",
       "<table border=\"1\" class=\"dataframe\">\n",
       "  <thead>\n",
       "    <tr style=\"text-align: right;\">\n",
       "      <th></th>\n",
       "      <th>min</th>\n",
       "      <th>max</th>\n",
       "      <th>mean</th>\n",
       "    </tr>\n",
       "    <tr>\n",
       "      <th>categoria</th>\n",
       "      <th></th>\n",
       "      <th></th>\n",
       "      <th></th>\n",
       "    </tr>\n",
       "  </thead>\n",
       "  <tbody>\n",
       "    <tr>\n",
       "      <th>Ballerinas</th>\n",
       "      <td>99.0</td>\n",
       "      <td>139.0</td>\n",
       "      <td>108.500000</td>\n",
       "    </tr>\n",
       "    <tr>\n",
       "      <th>Sandali</th>\n",
       "      <td>68.0</td>\n",
       "      <td>125.0</td>\n",
       "      <td>99.367347</td>\n",
       "    </tr>\n",
       "    <tr>\n",
       "      <th>Scarpe</th>\n",
       "      <td>75.0</td>\n",
       "      <td>229.0</td>\n",
       "      <td>127.505495</td>\n",
       "    </tr>\n",
       "    <tr>\n",
       "      <th>Scarpe Piatte</th>\n",
       "      <td>99.0</td>\n",
       "      <td>135.0</td>\n",
       "      <td>113.875000</td>\n",
       "    </tr>\n",
       "    <tr>\n",
       "      <th>Sneakers</th>\n",
       "      <td>99.0</td>\n",
       "      <td>149.0</td>\n",
       "      <td>119.588235</td>\n",
       "    </tr>\n",
       "    <tr>\n",
       "      <th>Stivali</th>\n",
       "      <td>135.0</td>\n",
       "      <td>165.0</td>\n",
       "      <td>141.142857</td>\n",
       "    </tr>\n",
       "    <tr>\n",
       "      <th>Tacchi</th>\n",
       "      <td>95.0</td>\n",
       "      <td>125.0</td>\n",
       "      <td>111.538462</td>\n",
       "    </tr>\n",
       "  </tbody>\n",
       "</table>\n",
       "</div>"
      ],
      "text/plain": [
       "                 min    max        mean\n",
       "categoria                              \n",
       "Ballerinas      99.0  139.0  108.500000\n",
       "Sandali         68.0  125.0   99.367347\n",
       "Scarpe          75.0  229.0  127.505495\n",
       "Scarpe Piatte   99.0  135.0  113.875000\n",
       "Sneakers        99.0  149.0  119.588235\n",
       "Stivali        135.0  165.0  141.142857\n",
       "Tacchi          95.0  125.0  111.538462"
      ]
     },
     "execution_count": 545,
     "metadata": {},
     "output_type": "execute_result"
    }
   ],
   "source": [
    "#prezzo minimo, massimo e media per categoria\n",
    "df_uomo_donna_nae.groupby(\"categoria\")[\"prezzo\"].agg([\"min\", \"max\", \"mean\"])"
   ]
  },
  {
   "cell_type": "code",
   "execution_count": 547,
   "id": "7edd47cd-77cd-4477-8f7c-d0eaa4f4beee",
   "metadata": {},
   "outputs": [
    {
     "data": {
      "image/png": "[encoded data removed]",
      "text/plain": [
       "<Figure size 640x480 with 1 Axes>"
      ]
     },
     "metadata": {},
     "output_type": "display_data"
    }
   ],
   "source": [
    "#Distribuzione dei prezzi\n",
    "\n",
    "import matplotlib.pyplot as plt\n",
    "\n",
    "plt.hist(df_uomo_donna_nae[\"prezzo\"], bins=10, edgecolor='black')\n",
    "plt.title(\"Distribuzione dei prezzi\")\n",
    "plt.xlabel(\"Prezzo (€)\")\n",
    "plt.ylabel(\"Numero articoli\")\n",
    "plt.show()\n"
   ]
  },
  {
   "cell_type": "code",
   "execution_count": 549,
   "id": "2ff3abb2-1f57-4f24-b369-945306799dd2",
   "metadata": {},
   "outputs": [],
   "source": [
    "bins = [0, 79.99, 99.99, 119.99, float('inf')]\n",
    "labels = [\"<79,99€\", \"80–99,99€\", \"100–119,99€\", \">=120€\"]\n",
    "\n",
    "df_uomo_donna_nae[\"fascia_prezzo\"] = pd.cut(df_uomo_donna_nae[\"prezzo\"], bins=bins, labels=labels)\n"
   ]
  },
  {
   "cell_type": "code",
   "execution_count": 551,
   "id": "35d99653-a668-45d8-b7ea-398856ce2835",
   "metadata": {},
   "outputs": [
    {
     "data": {
      "text/plain": [
       "fascia_prezzo\n",
       "<79,99€         5\n",
       "80–99,99€      51\n",
       "100–119,99€    47\n",
       ">=120€         99\n",
       "Name: count, dtype: int64"
      ]
     },
     "execution_count": 551,
     "metadata": {},
     "output_type": "execute_result"
    }
   ],
   "source": [
    "df_uomo_donna_nae[\"fascia_prezzo\"].value_counts(sort=False)"
   ]
  },
  {
   "cell_type": "code",
   "execution_count": 553,
   "id": "21b78fba-168c-405d-a45d-f92ac11cb19e",
   "metadata": {},
   "outputs": [
    {
     "data": {
      "image/png": "[encoded data removed]",
      "text/plain": [
       "<Figure size 640x480 with 1 Axes>"
      ]
     },
     "metadata": {},
     "output_type": "display_data"
    }
   ],
   "source": [
    "df_uomo_donna_nae[\"sesso\"].value_counts().plot(kind=\"bar\", title=\"Ripartizione uomo/donna\")\n",
    "\n",
    "plt.xticks(rotation=0)  \n",
    "plt.ylabel(\"Numero di articoli\")\n",
    "plt.show()"
   ]
  },
  {
   "cell_type": "code",
   "execution_count": 555,
   "id": "e1a1cbb6-6c64-4a9b-8184-fd123ebf5eb6",
   "metadata": {},
   "outputs": [
    {
     "data": {
      "text/plain": [
       "<Axes: title={'center': 'Articoli per tipologia'}, xlabel='categoria'>"
      ]
     },
     "execution_count": 555,
     "metadata": {},
     "output_type": "execute_result"
    },
    {
     "data": {
      "image/png": "[encoded data removed]",
      "text/plain": [
       "<Figure size 640x480 with 1 Axes>"
      ]
     },
     "metadata": {},
     "output_type": "display_data"
    }
   ],
   "source": [
    "df_uomo_donna_nae[\"categoria\"].value_counts().plot(kind=\"bar\", title=\"Articoli per tipologia\")"
   ]
  },
  {
   "cell_type": "code",
   "execution_count": 557,
   "id": "e4ebeae0-bf08-40fc-b3ae-2aa5d751ba4b",
   "metadata": {},
   "outputs": [
    {
     "data": {
      "image/png": "[encoded data removed]",
      "text/plain": [
       "<Figure size 640x480 with 1 Axes>"
      ]
     },
     "metadata": {},
     "output_type": "display_data"
    }
   ],
   "source": [
    "df_uomo_donna_nae[\"fascia_prezzo\"].value_counts(sort=False).plot(kind=\"bar\")\n",
    "plt.title(\"Distribuzione articoli per fascia di prezzo\")\n",
    "plt.xticks(rotation=0)  \n",
    "plt.xlabel(\"Fascia di prezzo\")\n",
    "plt.ylabel(\"Numero di articoli\")\n",
    "plt.show()\n"
   ]
  },
  {
   "cell_type": "code",
   "execution_count": 559,
   "id": "53cad257-f9cd-45df-8e1d-dc2ef3f6420a",
   "metadata": {},
   "outputs": [
    {
     "data": {
      "text/plain": [
       "colore\n",
       "Black     90\n",
       "Brown     32\n",
       "Green     28\n",
       "Beige     14\n",
       "Grey      11\n",
       "White     11\n",
       "Red       10\n",
       "Orange     2\n",
       "Blue       2\n",
       "Pink       1\n",
       "Mila       1\n",
       "Name: count, dtype: int64"
      ]
     },
     "execution_count": 559,
     "metadata": {},
     "output_type": "execute_result"
    }
   ],
   "source": [
    "#Varietà\tQuante taglie? Quanti colori?\n",
    "df_uomo_donna_nae[\"colore\"].value_counts()"
   ]
  },
  {
   "cell_type": "code",
   "execution_count": 575,
   "id": "c7bd7c7f-78de-483f-8a48-7095beec3531",
   "metadata": {},
   "outputs": [
    {
     "data": {
      "text/plain": [
       "<Axes: xlabel='range taglie'>"
      ]
     },
     "execution_count": 575,
     "metadata": {},
     "output_type": "execute_result"
    },
    {
     "data": {
      "image/png": "[encoded data removed]",
      "text/plain": [
       "<Figure size 640x480 with 1 Axes>"
      ]
     },
     "metadata": {},
     "output_type": "display_data"
    }
   ],
   "source": [
    "df_uomo_donna_nae[\"range taglie\"].value_counts().plot(kind=\"bar\")\n",
    "#Distribuzione dei range di taglie"
   ]
  },
  {
   "cell_type": "code",
   "execution_count": null,
   "id": "d2b0797d-d412-48d7-8c6d-5f7562aa1180",
   "metadata": {},
   "outputs": [],
   "source": []
  }
 ],
 "metadata": {
  "kernelspec": {
   "display_name": "Python [conda env:base] *",
   "language": "python",
   "name": "conda-base-py"
  },
  "language_info": {
   "codemirror_mode": {
    "name": "ipython",
    "version": 3
   },
   "file_extension": ".py",
   "mimetype": "text/x-python",
   "name": "python",
   "nbconvert_exporter": "python",
   "pygments_lexer": "ipython3",
   "version": "3.12.7"
  }
 },
 "nbformat": 4,
 "nbformat_minor": 5
}
